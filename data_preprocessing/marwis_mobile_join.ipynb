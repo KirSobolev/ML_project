{
 "cells": [
  {
   "cell_type": "code",
   "execution_count": 2,
   "metadata": {},
   "outputs": [],
   "source": [
    "import numpy as np\n",
    "import pandas as pd\n",
    "import json\n",
    "import matplotlib.pyplot as plt"
   ]
  },
  {
   "cell_type": "code",
   "execution_count": 43,
   "metadata": {},
   "outputs": [],
   "source": [
    "# All paths to .csv files\n",
    "path1 = \"../original_data/marwis_data_2023-12.csv\"\n",
    "path2 = \"../original_data/marwis_data_2024-01.csv\"\n",
    "path3 = \"../original_data/marwis_data_2024-02.csv\"\n"
   ]
  },
  {
   "cell_type": "code",
   "execution_count": 27,
   "metadata": {},
   "outputs": [],
   "source": [
    "def unpack_json(path):\n",
    "    #json column name\n",
    "    json_column = 'data'\n",
    "    # columns to exclude\n",
    "    columns = [\"id\", \"device_id\", json_column, \"alt\", \"hdg\", \"lat\", \"lon\",\n",
    "               \"pwr\", \"spd\", \"tienimi\", \"tieosoite\", \"timeStamp\"]\n",
    "    # Load the CSV file\n",
    "    df = pd.read_csv(path)\n",
    "\n",
    "    # Expand the JSON column into separate columns\n",
    "    json_expanded = df[json_column].apply(json.loads).apply(pd.Series)\n",
    "    # Concatenate the expanded JSON columns with the original dataframe\n",
    "    df = pd.concat([df, json_expanded], axis=1)\n",
    "    # Delete columns\n",
    "    df.drop(columns, axis=1, inplace=True)\n",
    "\n",
    "    # Display the updated dataframe\n",
    "    return df"
   ]
  },
  {
   "cell_type": "code",
   "execution_count": 44,
   "metadata": {},
   "outputs": [
    {
     "name": "stderr",
     "output_type": "stream",
     "text": [
      "/var/folders/19/0ldx1bc54jx5tvjkrsbcv4040000gn/T/ipykernel_37669/4281715045.py:8: DtypeWarning: Columns (2) have mixed types. Specify dtype option on import or set low_memory=False.\n",
      "  df = pd.read_csv(path)\n"
     ]
    }
   ],
   "source": [
    "# Apply the unpacking function to every file \n",
    "marwis2023_12 = unpack_json(path1)\n",
    "marwis2024_01 = unpack_json(path2)\n",
    "marwis2024_02 = unpack_json(path3)\n",
    "\n",
    "# Combine all datasets to one\n",
    "df = pd.concat([marwis2023_12, marwis2024_01, marwis2024_02])\n"
   ]
  },
  {
   "cell_type": "code",
   "execution_count": null,
   "metadata": {},
   "outputs": [],
   "source": [
    "# Delete duplcicated timestamps\n",
    "df.drop_duplicates(subset=\"timestamp\", inplace=True)"
   ]
  },
  {
   "cell_type": "code",
   "execution_count": 45,
   "metadata": {},
   "outputs": [],
   "source": [
    "df.to_csv(\"../ready_data/merged_marwis.csv\")"
   ]
  }
 ],
 "metadata": {
  "kernelspec": {
   "display_name": ".venv",
   "language": "python",
   "name": "python3"
  },
  "language_info": {
   "codemirror_mode": {
    "name": "ipython",
    "version": 3
   },
   "file_extension": ".py",
   "mimetype": "text/x-python",
   "name": "python",
   "nbconvert_exporter": "python",
   "pygments_lexer": "ipython3",
   "version": "3.10.13"
  }
 },
 "nbformat": 4,
 "nbformat_minor": 2
}
