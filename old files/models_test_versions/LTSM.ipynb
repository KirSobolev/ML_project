{
 "cells": [
  {
   "cell_type": "code",
   "execution_count": 1,
   "metadata": {},
   "outputs": [
    {
     "name": "stdout",
     "output_type": "stream",
     "text": [
      "WARNING:tensorflow:From c:\\Users\\kiril\\Documents\\GitHub\\ML_project\\.venv\\Lib\\site-packages\\keras\\src\\losses.py:2976: The name tf.losses.sparse_softmax_cross_entropy is deprecated. Please use tf.compat.v1.losses.sparse_softmax_cross_entropy instead.\n",
      "\n"
     ]
    }
   ],
   "source": [
    "import pandas as pd\n",
    "import seaborn as sns\n",
    "import numpy as np\n",
    "import seaborn as sns\n",
    "import matplotlib.pyplot as plt\n",
    "import tensorflow as tf\n",
    "import keras\n",
    "\n",
    "from sklearn import metrics\n",
    "from numpy.lib.stride_tricks import sliding_window_view\n",
    "from sklearn.utils import shuffle\n",
    "from keras.models import Sequential\n",
    "from keras import Input\n",
    "from keras.layers import SimpleRNN, LSTM\n",
    "from keras.layers import Dense, Dropout\n",
    "from keras.callbacks import ModelCheckpoint\n",
    "%matplotlib inline\n",
    "# tf crash fix\n",
    "import os\n",
    "os.environ['TF_ENABLE_ONEDNN_OPTS'] = '0'"
   ]
  },
  {
   "cell_type": "code",
   "execution_count": 2,
   "metadata": {},
   "outputs": [],
   "source": [
    "df = pd.read_csv(\"../ready_data/winter_2022.csv\")\n",
    "test_df = pd.read_csv(\"../ready_data/test_day.csv\")"
   ]
  },
  {
   "cell_type": "code",
   "execution_count": 3,
   "metadata": {},
   "outputs": [],
   "source": [
    "num_cols = ['airTemp', 'humidity', 'dewpoint', 'Friction',\n",
    "       'Road_Surface_Temperature', 'Water_Film_Surface_mm']"
   ]
  },
  {
   "cell_type": "code",
   "execution_count": 4,
   "metadata": {},
   "outputs": [],
   "source": [
    "df[\"sequence\"] = df.index + 1\n",
    "df = df.drop(\"ts\", axis = 1)\n",
    "\n",
    "test_df[\"sequence\"] = test_df.index + 1\n",
    "test_df = test_df.drop(\"ts\", axis = 1)\n"
   ]
  },
  {
   "cell_type": "code",
   "execution_count": 5,
   "metadata": {},
   "outputs": [],
   "source": [
    "# To get the number of variables\n",
    "n_features = len(num_cols)"
   ]
  },
  {
   "cell_type": "code",
   "execution_count": 6,
   "metadata": {},
   "outputs": [],
   "source": [
    "timestep_size = 36\n",
    "\n",
    "input_windows = sliding_window_view(df[num_cols].values, window_shape=(timestep_size, n_features))[::timestep_size]\n",
    "\n",
    "target_windows = sliding_window_view(df['Friction'].values, window_shape=(timestep_size))[::timestep_size]\n",
    "targets = target_windows[:,-1]\n",
    "\n",
    "inputs = input_windows.reshape(-1,timestep_size, n_features)\n",
    "\n",
    "X= inputs\n",
    "y = targets\n",
    "\n",
    "X,y = shuffle(X,y, random_state=42)"
   ]
  },
  {
   "cell_type": "code",
   "execution_count": 7,
   "metadata": {},
   "outputs": [],
   "source": [
    " # define the cutoff point\n",
    "train_size = 0.8\n",
    "splitter = int(len(X) * train_size)\n",
    "\n",
    "# split to train/test\n",
    "x_train = X[0:splitter]\n",
    "x_test = X[splitter:]\n",
    "y_train = y[0:splitter]\n",
    "y_test = y[splitter:]"
   ]
  },
  {
   "cell_type": "code",
   "execution_count": 8,
   "metadata": {},
   "outputs": [
    {
     "name": "stdout",
     "output_type": "stream",
     "text": [
      "WARNING:tensorflow:From c:\\Users\\kiril\\Documents\\GitHub\\ML_project\\.venv\\Lib\\site-packages\\keras\\src\\backend.py:873: The name tf.get_default_graph is deprecated. Please use tf.compat.v1.get_default_graph instead.\n",
      "\n",
      "WARNING:tensorflow:From c:\\Users\\kiril\\Documents\\GitHub\\ML_project\\.venv\\Lib\\site-packages\\keras\\src\\optimizers\\__init__.py:309: The name tf.train.Optimizer is deprecated. Please use tf.compat.v1.train.Optimizer instead.\n",
      "\n",
      "Epoch 1/500\n",
      "WARNING:tensorflow:From c:\\Users\\kiril\\Documents\\GitHub\\ML_project\\.venv\\Lib\\site-packages\\keras\\src\\utils\\tf_utils.py:492: The name tf.ragged.RaggedTensorValue is deprecated. Please use tf.compat.v1.ragged.RaggedTensorValue instead.\n",
      "\n",
      "16/16 [==============================] - 3s 17ms/step - loss: 4719.9536 - lr: 0.0010\n",
      "Epoch 2/500\n",
      "16/16 [==============================] - 0s 16ms/step - loss: 1165.7975 - lr: 0.0010\n",
      "Epoch 3/500\n",
      "16/16 [==============================] - 0s 14ms/step - loss: 3505.9194 - lr: 0.0010\n",
      "Epoch 4/500\n",
      "16/16 [==============================] - 0s 16ms/step - loss: 739.8121 - lr: 0.0010\n",
      "Epoch 5/500\n",
      "16/16 [==============================] - 0s 14ms/step - loss: 1893.3992 - lr: 0.0010\n",
      "Epoch 6/500\n",
      "16/16 [==============================] - 0s 16ms/step - loss: 961.9788 - lr: 0.0010\n",
      "Epoch 7/500\n",
      "16/16 [==============================] - 0s 16ms/step - loss: 158.6029 - lr: 0.0010\n",
      "Epoch 8/500\n",
      "16/16 [==============================] - 0s 16ms/step - loss: 130.4691 - lr: 0.0010\n",
      "Epoch 9/500\n",
      "16/16 [==============================] - 0s 14ms/step - loss: 325.4171 - lr: 0.0010\n",
      "Epoch 10/500\n",
      "16/16 [==============================] - 0s 15ms/step - loss: 570.9565 - lr: 0.0010\n",
      "Epoch 11/500\n",
      "16/16 [==============================] - 0s 15ms/step - loss: 225.3685 - lr: 0.0010\n",
      "Epoch 12/500\n",
      "16/16 [==============================] - 0s 16ms/step - loss: 98.6414 - lr: 0.0010\n",
      "Epoch 13/500\n",
      "16/16 [==============================] - 0s 16ms/step - loss: 71.5267 - lr: 0.0010\n",
      "Epoch 14/500\n",
      "16/16 [==============================] - 0s 14ms/step - loss: 95.9933 - lr: 0.0010\n",
      "Epoch 15/500\n",
      "16/16 [==============================] - 0s 14ms/step - loss: 93.4686 - lr: 0.0010\n",
      "Epoch 16/500\n",
      "16/16 [==============================] - 0s 16ms/step - loss: 37.9437 - lr: 0.0010\n",
      "Epoch 17/500\n",
      "16/16 [==============================] - 0s 16ms/step - loss: 25.8562 - lr: 0.0010\n",
      "Epoch 18/500\n",
      "16/16 [==============================] - 0s 14ms/step - loss: 27.7513 - lr: 0.0010\n",
      "Epoch 19/500\n",
      "16/16 [==============================] - 0s 16ms/step - loss: 25.0869 - lr: 0.0010\n",
      "Epoch 20/500\n",
      "16/16 [==============================] - 0s 16ms/step - loss: 48.2150 - lr: 0.0010\n",
      "Epoch 21/500\n",
      "16/16 [==============================] - 0s 14ms/step - loss: 61.7971 - lr: 0.0010\n",
      "Epoch 22/500\n",
      "16/16 [==============================] - 0s 14ms/step - loss: 76.1621 - lr: 0.0010\n",
      "Epoch 23/500\n",
      "16/16 [==============================] - 0s 14ms/step - loss: 35.2320 - lr: 0.0010\n",
      "Epoch 24/500\n",
      "16/16 [==============================] - 0s 15ms/step - loss: 31.2804 - lr: 0.0010\n",
      "Epoch 25/500\n",
      "16/16 [==============================] - 0s 16ms/step - loss: 18.1398 - lr: 0.0010\n",
      "Epoch 26/500\n",
      "16/16 [==============================] - 0s 14ms/step - loss: 18.7809 - lr: 0.0010\n",
      "Epoch 27/500\n",
      "16/16 [==============================] - 0s 15ms/step - loss: 32.7768 - lr: 0.0010\n",
      "Epoch 28/500\n",
      "16/16 [==============================] - 0s 14ms/step - loss: 43.9069 - lr: 0.0010\n",
      "Epoch 29/500\n",
      "16/16 [==============================] - 0s 15ms/step - loss: 34.8139 - lr: 0.0010\n",
      "Epoch 30/500\n",
      "16/16 [==============================] - 0s 14ms/step - loss: 26.1441 - lr: 0.0010\n",
      "Epoch 31/500\n",
      "16/16 [==============================] - 0s 14ms/step - loss: 34.2396 - lr: 0.0010\n",
      "Epoch 32/500\n",
      "16/16 [==============================] - 0s 15ms/step - loss: 27.5945 - lr: 0.0010\n",
      "Epoch 33/500\n",
      "16/16 [==============================] - 0s 14ms/step - loss: 40.6351 - lr: 0.0010\n",
      "Epoch 34/500\n",
      "16/16 [==============================] - 0s 14ms/step - loss: 32.4652 - lr: 0.0010\n",
      "Epoch 35/500\n",
      "16/16 [==============================] - 0s 14ms/step - loss: 63.2178 - lr: 0.0010\n",
      "Epoch 36/500\n",
      "16/16 [==============================] - 0s 14ms/step - loss: 126.2870 - lr: 0.0010\n",
      "Epoch 37/500\n",
      "16/16 [==============================] - 0s 14ms/step - loss: 96.5723 - lr: 0.0010\n",
      "Epoch 38/500\n",
      "16/16 [==============================] - 0s 14ms/step - loss: 92.4433 - lr: 0.0010\n",
      "Epoch 39/500\n",
      "16/16 [==============================] - 0s 14ms/step - loss: 44.8146 - lr: 0.0010\n",
      "Epoch 40/500\n",
      "16/16 [==============================] - 0s 15ms/step - loss: 41.8887 - lr: 0.0010\n",
      "Epoch 41/500\n",
      "16/16 [==============================] - 0s 14ms/step - loss: 38.6612 - lr: 0.0010\n",
      "Epoch 42/500\n",
      "16/16 [==============================] - 0s 14ms/step - loss: 22.1010 - lr: 0.0010\n",
      "Epoch 43/500\n",
      "16/16 [==============================] - 0s 15ms/step - loss: 38.4721 - lr: 0.0010\n",
      "Epoch 44/500\n",
      "16/16 [==============================] - 0s 14ms/step - loss: 22.6739 - lr: 0.0010\n",
      "Epoch 45/500\n",
      "16/16 [==============================] - 0s 14ms/step - loss: 18.8240 - lr: 0.0010\n",
      "Epoch 46/500\n",
      "16/16 [==============================] - 0s 15ms/step - loss: 22.1360 - lr: 5.0000e-04\n",
      "Epoch 47/500\n",
      "16/16 [==============================] - 0s 17ms/step - loss: 11.6008 - lr: 5.0000e-04\n",
      "Epoch 48/500\n",
      "16/16 [==============================] - 0s 14ms/step - loss: 12.7004 - lr: 5.0000e-04\n",
      "Epoch 49/500\n",
      "16/16 [==============================] - 0s 14ms/step - loss: 12.9504 - lr: 5.0000e-04\n",
      "Epoch 50/500\n",
      "16/16 [==============================] - 0s 16ms/step - loss: 10.1088 - lr: 5.0000e-04\n",
      "Epoch 51/500\n",
      "16/16 [==============================] - 0s 16ms/step - loss: 9.9291 - lr: 5.0000e-04\n",
      "Epoch 52/500\n",
      "16/16 [==============================] - 0s 16ms/step - loss: 9.5706 - lr: 5.0000e-04\n",
      "Epoch 53/500\n",
      "16/16 [==============================] - 0s 14ms/step - loss: 10.4665 - lr: 5.0000e-04\n",
      "Epoch 54/500\n",
      "16/16 [==============================] - 0s 14ms/step - loss: 11.0790 - lr: 5.0000e-04\n",
      "Epoch 55/500\n",
      "16/16 [==============================] - 0s 15ms/step - loss: 10.3148 - lr: 5.0000e-04\n",
      "Epoch 56/500\n",
      "16/16 [==============================] - 0s 18ms/step - loss: 8.5426 - lr: 5.0000e-04\n",
      "Epoch 57/500\n",
      "16/16 [==============================] - 0s 14ms/step - loss: 8.6461 - lr: 5.0000e-04\n",
      "Epoch 58/500\n",
      "16/16 [==============================] - 0s 16ms/step - loss: 7.2334 - lr: 5.0000e-04\n",
      "Epoch 59/500\n",
      "16/16 [==============================] - 0s 16ms/step - loss: 5.3195 - lr: 5.0000e-04\n",
      "Epoch 60/500\n",
      "16/16 [==============================] - 0s 14ms/step - loss: 5.7183 - lr: 5.0000e-04\n",
      "Epoch 61/500\n",
      "16/16 [==============================] - 0s 14ms/step - loss: 5.4644 - lr: 5.0000e-04\n",
      "Epoch 62/500\n",
      "16/16 [==============================] - 0s 14ms/step - loss: 7.3356 - lr: 5.0000e-04\n",
      "Epoch 63/500\n",
      "16/16 [==============================] - 0s 14ms/step - loss: 14.7561 - lr: 5.0000e-04\n",
      "Epoch 64/500\n",
      "16/16 [==============================] - 0s 14ms/step - loss: 7.1890 - lr: 5.0000e-04\n",
      "Epoch 65/500\n",
      "16/16 [==============================] - 0s 16ms/step - loss: 5.0129 - lr: 5.0000e-04\n",
      "Epoch 66/500\n",
      "16/16 [==============================] - 0s 16ms/step - loss: 3.1802 - lr: 5.0000e-04\n",
      "Epoch 67/500\n",
      "16/16 [==============================] - 0s 15ms/step - loss: 3.9340 - lr: 5.0000e-04\n",
      "Epoch 68/500\n",
      "16/16 [==============================] - 0s 16ms/step - loss: 3.0999 - lr: 5.0000e-04\n",
      "Epoch 69/500\n",
      "16/16 [==============================] - 0s 16ms/step - loss: 2.8163 - lr: 5.0000e-04\n",
      "Epoch 70/500\n",
      "16/16 [==============================] - 0s 15ms/step - loss: 3.0975 - lr: 5.0000e-04\n",
      "Epoch 71/500\n",
      "16/16 [==============================] - 0s 16ms/step - loss: 3.5628 - lr: 5.0000e-04\n",
      "Epoch 72/500\n",
      "16/16 [==============================] - 0s 16ms/step - loss: 2.7627 - lr: 5.0000e-04\n",
      "Epoch 73/500\n",
      "16/16 [==============================] - 0s 14ms/step - loss: 5.0011 - lr: 5.0000e-04\n",
      "Epoch 74/500\n",
      "16/16 [==============================] - 0s 14ms/step - loss: 8.2799 - lr: 5.0000e-04\n",
      "Epoch 75/500\n",
      "16/16 [==============================] - 0s 14ms/step - loss: 11.0127 - lr: 5.0000e-04\n",
      "Epoch 76/500\n",
      "16/16 [==============================] - 0s 14ms/step - loss: 14.1451 - lr: 5.0000e-04\n",
      "Epoch 77/500\n",
      "16/16 [==============================] - 0s 14ms/step - loss: 8.7456 - lr: 5.0000e-04\n",
      "Epoch 78/500\n",
      "16/16 [==============================] - 0s 14ms/step - loss: 9.5338 - lr: 5.0000e-04\n",
      "Epoch 79/500\n",
      "16/16 [==============================] - 0s 14ms/step - loss: 17.4217 - lr: 5.0000e-04\n",
      "Epoch 80/500\n",
      "16/16 [==============================] - 0s 14ms/step - loss: 8.4026 - lr: 5.0000e-04\n",
      "Epoch 81/500\n",
      "16/16 [==============================] - 0s 14ms/step - loss: 17.3120 - lr: 5.0000e-04\n",
      "Epoch 82/500\n",
      "16/16 [==============================] - 0s 14ms/step - loss: 9.4809 - lr: 5.0000e-04\n",
      "Epoch 83/500\n",
      "16/16 [==============================] - 0s 14ms/step - loss: 6.1429 - lr: 5.0000e-04\n",
      "Epoch 84/500\n",
      "16/16 [==============================] - 0s 14ms/step - loss: 5.2634 - lr: 5.0000e-04\n",
      "Epoch 85/500\n",
      "16/16 [==============================] - 0s 14ms/step - loss: 5.0082 - lr: 5.0000e-04\n",
      "Epoch 86/500\n",
      "16/16 [==============================] - 0s 14ms/step - loss: 6.3847 - lr: 5.0000e-04\n",
      "Epoch 87/500\n",
      "16/16 [==============================] - 0s 15ms/step - loss: 4.9457 - lr: 5.0000e-04\n",
      "Epoch 88/500\n",
      "16/16 [==============================] - 0s 14ms/step - loss: 4.3514 - lr: 5.0000e-04\n",
      "Epoch 89/500\n",
      "16/16 [==============================] - 0s 15ms/step - loss: 12.6560 - lr: 5.0000e-04\n",
      "Epoch 90/500\n",
      "16/16 [==============================] - 0s 14ms/step - loss: 6.0719 - lr: 5.0000e-04\n",
      "Epoch 91/500\n",
      "16/16 [==============================] - 0s 16ms/step - loss: 4.4458 - lr: 5.0000e-04\n",
      "Epoch 92/500\n",
      "16/16 [==============================] - 0s 14ms/step - loss: 3.9179 - lr: 5.0000e-04\n",
      "Epoch 93/500\n",
      "16/16 [==============================] - 0s 14ms/step - loss: 4.7412 - lr: 2.5000e-04\n",
      "Epoch 94/500\n",
      "16/16 [==============================] - 0s 14ms/step - loss: 3.8292 - lr: 2.5000e-04\n",
      "Epoch 95/500\n",
      "16/16 [==============================] - 0s 16ms/step - loss: 4.5348 - lr: 2.5000e-04\n",
      "Epoch 96/500\n",
      "16/16 [==============================] - 0s 14ms/step - loss: 3.8349 - lr: 2.5000e-04\n",
      "Epoch 97/500\n",
      "16/16 [==============================] - 0s 14ms/step - loss: 4.8481 - lr: 2.5000e-04\n",
      "Epoch 98/500\n",
      "16/16 [==============================] - 0s 14ms/step - loss: 4.1849 - lr: 2.5000e-04\n",
      "Epoch 99/500\n",
      "16/16 [==============================] - 0s 14ms/step - loss: 4.6354 - lr: 2.5000e-04\n",
      "Epoch 100/500\n",
      "16/16 [==============================] - 0s 14ms/step - loss: 7.6359 - lr: 2.5000e-04\n",
      "Epoch 101/500\n",
      "16/16 [==============================] - 0s 15ms/step - loss: 5.7560 - lr: 2.5000e-04\n",
      "Epoch 102/500\n",
      "16/16 [==============================] - 0s 14ms/step - loss: 5.2706 - lr: 2.5000e-04\n",
      "Epoch 103/500\n",
      "16/16 [==============================] - 0s 14ms/step - loss: 6.9665 - lr: 2.5000e-04\n",
      "Epoch 104/500\n",
      "16/16 [==============================] - 0s 14ms/step - loss: 5.7207 - lr: 2.5000e-04\n",
      "Epoch 105/500\n",
      "16/16 [==============================] - 0s 14ms/step - loss: 4.1409 - lr: 2.5000e-04\n",
      "Epoch 106/500\n",
      "16/16 [==============================] - 0s 14ms/step - loss: 7.2665 - lr: 2.5000e-04\n",
      "Epoch 107/500\n",
      "16/16 [==============================] - 0s 15ms/step - loss: 9.4224 - lr: 2.5000e-04\n",
      "Epoch 108/500\n",
      "16/16 [==============================] - 0s 14ms/step - loss: 6.3235 - lr: 2.5000e-04\n",
      "Epoch 109/500\n",
      "16/16 [==============================] - 0s 15ms/step - loss: 6.5351 - lr: 2.5000e-04\n",
      "Epoch 110/500\n",
      "16/16 [==============================] - 0s 15ms/step - loss: 5.2054 - lr: 2.5000e-04\n",
      "Epoch 111/500\n",
      "16/16 [==============================] - 0s 14ms/step - loss: 12.2903 - lr: 2.5000e-04\n",
      "Epoch 112/500\n",
      "16/16 [==============================] - 0s 14ms/step - loss: 10.3932 - lr: 2.5000e-04\n",
      "Epoch 113/500\n",
      "16/16 [==============================] - 0s 14ms/step - loss: 5.1751 - lr: 1.2500e-04\n",
      "Epoch 114/500\n",
      "16/16 [==============================] - 0s 14ms/step - loss: 3.4879 - lr: 1.2500e-04\n",
      "Epoch 115/500\n",
      "16/16 [==============================] - 0s 15ms/step - loss: 4.4736 - lr: 1.2500e-04\n",
      "Epoch 116/500\n",
      "16/16 [==============================] - 0s 15ms/step - loss: 5.0736 - lr: 1.2500e-04\n",
      "Epoch 117/500\n",
      "16/16 [==============================] - 0s 14ms/step - loss: 5.2219 - lr: 1.2500e-04\n",
      "Epoch 118/500\n",
      "16/16 [==============================] - 0s 16ms/step - loss: 7.4293 - lr: 1.2500e-04\n",
      "Epoch 119/500\n",
      "16/16 [==============================] - 0s 14ms/step - loss: 7.6640 - lr: 1.2500e-04\n",
      "Epoch 120/500\n",
      "16/16 [==============================] - 0s 14ms/step - loss: 10.1579 - lr: 1.2500e-04\n",
      "Epoch 121/500\n",
      "16/16 [==============================] - 0s 14ms/step - loss: 9.2213 - lr: 1.2500e-04\n",
      "Epoch 122/500\n",
      "16/16 [==============================] - 0s 14ms/step - loss: 6.5153 - lr: 1.2500e-04\n",
      "Epoch 122: early stopping\n"
     ]
    },
    {
     "data": {
      "text/plain": [
       "<keras.src.callbacks.History at 0x251801ead10>"
      ]
     },
     "execution_count": 8,
     "metadata": {},
     "output_type": "execute_result"
    }
   ],
   "source": [
    "model = Sequential()\n",
    "\n",
    "model.add(LSTM(64, activation=\"relu\", input_shape=x_train.shape[1:], return_sequences=True))\n",
    "model.add(LSTM(32, activation=\"relu\", return_sequences=True))\n",
    "model.add(LSTM(16, activation=\"relu\"))\n",
    "model.add(Dense(1))\n",
    "model.compile(optimizer='adam', loss='mse')\n",
    "\n",
    "callbacks = [\n",
    "    keras.callbacks.ModelCheckpoint(\n",
    "        \"LTSM.keras\", save_best_only=True, monitor=\"loss\", mode=\"min\"\n",
    "    ),\n",
    "    keras.callbacks.ReduceLROnPlateau(\n",
    "        monitor=\"loss\", factor=0.5, patience=20, min_lr=0.0001\n",
    "    ),\n",
    "    keras.callbacks.EarlyStopping(monitor=\"loss\", patience=50, verbose=1),\n",
    "]\n",
    "\n",
    "model.fit(x_train, y_train, epochs=500, verbose=1, callbacks=callbacks)\n"
   ]
  },
  {
   "cell_type": "code",
   "execution_count": 9,
   "metadata": {},
   "outputs": [
    {
     "data": {
      "text/plain": [
       "<Axes: >"
      ]
     },
     "execution_count": 9,
     "metadata": {},
     "output_type": "execute_result"
    },
    {
     "data": {
      "image/png": "[encoded data removed]",
      "text/plain": [
       "<Figure size 640x480 with 1 Axes>"
      ]
     },
     "metadata": {},
     "output_type": "display_data"
    }
   ],
   "source": [
    " # the usual training metric visualization\n",
    "loss_df = pd.DataFrame(model.history.history)\n",
    "loss_df.plot()"
   ]
  },
  {
   "cell_type": "code",
   "execution_count": 10,
   "metadata": {},
   "outputs": [],
   "source": [
    "model = keras.models.load_model(\"LTSM.keras\")"
   ]
  },
  {
   "cell_type": "code",
   "execution_count": 11,
   "metadata": {},
   "outputs": [],
   "source": [
    "forecast_steps = 12\n",
    "\n",
    "test = test_df[:-forecast_steps]\n",
    "sequence = test[-37:]\n",
    "\n",
    "input_windows = sliding_window_view(sequence[num_cols].values, window_shape=(timestep_size, n_features))[::timestep_size]\n",
    "last_input = input_windows.reshape(-1,timestep_size, n_features)"
   ]
  },
  {
   "cell_type": "code",
   "execution_count": 12,
   "metadata": {},
   "outputs": [
    {
     "name": "stdout",
     "output_type": "stream",
     "text": [
      "1/1 [==============================] - 0s 344ms/step\n",
      "1/1 [==============================] - 0s 21ms/step\n",
      "1/1 [==============================] - 0s 22ms/step\n",
      "1/1 [==============================] - 0s 19ms/step\n",
      "1/1 [==============================] - ETA: 0s"
     ]
    },
    {
     "name": "stderr",
     "output_type": "stream",
     "text": [
      "C:\\Users\\kiril\\AppData\\Local\\Temp\\ipykernel_22780\\2535987490.py:8: DeprecationWarning: Conversion of an array with ndim > 0 to a scalar is deprecated, and will error in future. Ensure you extract a single element from your array before performing this operation. (Deprecated NumPy 1.25.)\n",
      "  last_input[0, -1, 0] = next_pred[0]\n"
     ]
    },
    {
     "name": "stdout",
     "output_type": "stream",
     "text": [
      "1/1 [==============================] - 0s 19ms/step\n",
      "1/1 [==============================] - 0s 19ms/step\n",
      "1/1 [==============================] - 0s 20ms/step\n",
      "1/1 [==============================] - 0s 18ms/step\n",
      "1/1 [==============================] - 0s 18ms/step\n",
      "1/1 [==============================] - 0s 18ms/step\n",
      "1/1 [==============================] - 0s 18ms/step\n",
      "1/1 [==============================] - 0s 19ms/step\n"
     ]
    }
   ],
   "source": [
    "future_predictions = []\n",
    "for _ in range(forecast_steps):\n",
    "    next_pred = model.predict(last_input)  # Predict the next time step\n",
    "    # Extract the predicted class with the highest probability (using argmax)\n",
    "    future_predictions.append(next_pred)  # Append the prediction to the list\n",
    "    # Update the sequence by adding the predicted value and removing the oldest value\n",
    "    last_input = np.roll(last_input, shift=-1, axis=1)\n",
    "    last_input[0, -1, 0] = next_pred[0]\n"
   ]
  },
  {
   "cell_type": "code",
   "execution_count": 13,
   "metadata": {},
   "outputs": [
    {
     "name": "stdout",
     "output_type": "stream",
     "text": [
      "[array([[0.8646601]], dtype=float32), array([[1.3593323]], dtype=float32), array([[0.8067312]], dtype=float32), array([[1.3810016]], dtype=float32), array([[1.3681898]], dtype=float32), array([[1.8447891]], dtype=float32), array([[0.72975653]], dtype=float32), array([[0.54556036]], dtype=float32), array([[1.5598397]], dtype=float32), array([[0.850879]], dtype=float32), array([[-0.00952581]], dtype=float32), array([[-0.38015777]], dtype=float32)]\n"
     ]
    }
   ],
   "source": [
    "print(future_predictions)"
   ]
  },
  {
   "cell_type": "code",
   "execution_count": 14,
   "metadata": {},
   "outputs": [],
   "source": [
    "res = []\n",
    "for pred in future_predictions:\n",
    "    res.append(pred[0])\n",
    "res = pd.DataFrame(res)\n",
    "\n",
    "res = res.rename({\"0\":\"Friction\"}, axis=1)"
   ]
  },
  {
   "cell_type": "code",
   "execution_count": 15,
   "metadata": {},
   "outputs": [
    {
     "data": {
      "text/html": [
       "<div>\n",
       "<style scoped>\n",
       "    .dataframe tbody tr th:only-of-type {\n",
       "        vertical-align: middle;\n",
       "    }\n",
       "\n",
       "    .dataframe tbody tr th {\n",
       "        vertical-align: top;\n",
       "    }\n",
       "\n",
       "    .dataframe thead th {\n",
       "        text-align: right;\n",
       "    }\n",
       "</style>\n",
       "<table border=\"1\" class=\"dataframe\">\n",
       "  <thead>\n",
       "    <tr style=\"text-align: right;\">\n",
       "      <th></th>\n",
       "      <th>0</th>\n",
       "    </tr>\n",
       "  </thead>\n",
       "  <tbody>\n",
       "    <tr>\n",
       "      <th>0</th>\n",
       "      <td>0.454719</td>\n",
       "    </tr>\n",
       "    <tr>\n",
       "      <th>1</th>\n",
       "      <td>0.452732</td>\n",
       "    </tr>\n",
       "    <tr>\n",
       "      <th>2</th>\n",
       "      <td>0.449021</td>\n",
       "    </tr>\n",
       "    <tr>\n",
       "      <th>3</th>\n",
       "      <td>0.446597</td>\n",
       "    </tr>\n",
       "    <tr>\n",
       "      <th>4</th>\n",
       "      <td>0.446995</td>\n",
       "    </tr>\n",
       "    <tr>\n",
       "      <th>...</th>\n",
       "      <td>...</td>\n",
       "    </tr>\n",
       "    <tr>\n",
       "      <th>139</th>\n",
       "      <td>0.545560</td>\n",
       "    </tr>\n",
       "    <tr>\n",
       "      <th>140</th>\n",
       "      <td>1.559840</td>\n",
       "    </tr>\n",
       "    <tr>\n",
       "      <th>141</th>\n",
       "      <td>0.850879</td>\n",
       "    </tr>\n",
       "    <tr>\n",
       "      <th>142</th>\n",
       "      <td>-0.009526</td>\n",
       "    </tr>\n",
       "    <tr>\n",
       "      <th>143</th>\n",
       "      <td>-0.380158</td>\n",
       "    </tr>\n",
       "  </tbody>\n",
       "</table>\n",
       "<p>144 rows × 1 columns</p>\n",
       "</div>"
      ],
      "text/plain": [
       "            0\n",
       "0    0.454719\n",
       "1    0.452732\n",
       "2    0.449021\n",
       "3    0.446597\n",
       "4    0.446995\n",
       "..        ...\n",
       "139  0.545560\n",
       "140  1.559840\n",
       "141  0.850879\n",
       "142 -0.009526\n",
       "143 -0.380158\n",
       "\n",
       "[144 rows x 1 columns]"
      ]
     },
     "execution_count": 15,
     "metadata": {},
     "output_type": "execute_result"
    }
   ],
   "source": [
    "result = pd.concat([test.Friction, res], ignore_index=True)\n",
    "result"
   ]
  },
  {
   "cell_type": "code",
   "execution_count": 16,
   "metadata": {},
   "outputs": [
    {
     "data": {
      "image/png": "[encoded data removed]",
      "text/plain": [
       "<Figure size 640x480 with 1 Axes>"
      ]
     },
     "metadata": {},
     "output_type": "display_data"
    }
   ],
   "source": [
    "plt.plot(test_df.index, test_df.Friction)\n",
    "plt.plot(result.index, result[0], linestyle = \":\")\n",
    "plt.show()"
   ]
  },
  {
   "cell_type": "code",
   "execution_count": null,
   "metadata": {},
   "outputs": [],
   "source": []
  }
 ],
 "metadata": {
  "kernelspec": {
   "display_name": ".venv",
   "language": "python",
   "name": "python3"
  },
  "language_info": {
   "codemirror_mode": {
    "name": "ipython",
    "version": 3
   },
   "file_extension": ".py",
   "mimetype": "text/x-python",
   "name": "python",
   "nbconvert_exporter": "python",
   "pygments_lexer": "ipython3",
   "version": "3.11.5"
  }
 },
 "nbformat": 4,
 "nbformat_minor": 2
}
