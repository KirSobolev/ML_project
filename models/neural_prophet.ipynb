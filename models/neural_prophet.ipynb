{
 "cells": [
  {
   "cell_type": "code",
   "execution_count": 1,
   "metadata": {},
   "outputs": [
    {
     "name": "stderr",
     "output_type": "stream",
     "text": [
      "c:\\Users\\kiril\\Documents\\GitHub\\ML_project\\.venv\\Lib\\site-packages\\tqdm\\auto.py:21: TqdmWarning: IProgress not found. Please update jupyter and ipywidgets. See https://ipywidgets.readthedocs.io/en/stable/user_install.html\n",
      "  from .autonotebook import tqdm as notebook_tqdm\n",
      "Importing plotly failed. Interactive plots will not work.\n",
      "Importing plotly failed. Interactive plots will not work.\n"
     ]
    }
   ],
   "source": [
    "from neuralprophet import NeuralProphet, set_log_level\n",
    "import pandas as pd\n",
    "import matplotlib.pyplot as plt\n",
    "from sklearn.preprocessing import MinMaxScaler\n"
   ]
  },
  {
   "cell_type": "code",
   "execution_count": 2,
   "metadata": {},
   "outputs": [],
   "source": [
    "# Load all datasets, two for training and another for testing\n",
    "# File adapted for starwis dataset\n",
    "df1 = pd.read_csv('../ready_data/winter_2021.csv')\n",
    "df2 = pd.read_csv('../ready_data/winter_2022.csv')\n",
    "train_df = pd.concat([df1, df2])\n",
    "\n",
    "# Pick a day from 2023 (unseen data)\n",
    "test_df = pd.read_csv(\"../ready_data/test_day.csv\")\n",
    "\n",
    "# Necessary renames and other standards for prophet\n",
    "train_df.rename({\"ts\": \"ds\",\n",
    "           \"Friction\": \"y\"}, axis=1, inplace=True, copy=False)\n",
    "# Make sure that \"ds\" is in pandas datetime format\n",
    "train_df[\"ds\"] = pd.to_datetime(train_df[\"ds\"])\n",
    "# Delete time zone information\n",
    "train_df['ds'] = train_df['ds'].dt.tz_localize(None)\n",
    "# After concatenation need to reset index, otherwise end up with duplicated indexes\n",
    "train_df = train_df.reset_index(drop=True)\n",
    "\n",
    "test_df.rename({\"ts\": \"ds\",\n",
    "           \"Friction\": \"y\"}, axis=1, inplace=True, copy=False)\n",
    "test_df[\"ds\"] = pd.to_datetime(test_df[\"ds\"])\n",
    "test_df['ds'] = test_df['ds'].dt.tz_localize(None)\n",
    "\n",
    "unseen_df = pd.read_csv('../ready_data/winter_2023.csv')\n",
    "unseen_df.rename({\"ts\": \"ds\",\n",
    "           \"Friction\": \"y\"}, axis=1, inplace=True, copy=False)\n",
    "unseen_df[\"ds\"] = pd.to_datetime(unseen_df[\"ds\"])\n",
    "unseen_df['ds'] = unseen_df['ds'].dt.tz_localize(None)"
   ]
  },
  {
   "cell_type": "code",
   "execution_count": 3,
   "metadata": {},
   "outputs": [],
   "source": [
    "# Dict which will be used to make forecast columns\n",
    "forecasts = {\"airTemp\": \"temp_forecast\",\n",
    "             \"humidity\": \"humidity_forecast\",\n",
    "             \"dewpoint\": \"dewpoint_forecast\",\n",
    "             \"precipitation\": \"precipitation_forecast\"\n",
    "             }\n",
    "\n",
    "# Create a support columns for both datasets with forecast by shifting data to 6 points back (1 hour)\n",
    "# Imitates weather forecast from the API and needed to set additional future regressors in model\n",
    "\n",
    "for key, value in forecasts.items():\n",
    "    train_df[value] = train_df[key].shift(-12)\n",
    "# Since last 6 rows can't obtain any information, drop them\n",
    "train_df = train_df.dropna()\n",
    "\n",
    "for key, value in forecasts.items():\n",
    "    test_df[value] = test_df[key].shift(-12)\n",
    "test_df = test_df.dropna()\n",
    "\n",
    "for key, value in forecasts.items():\n",
    "    unseen_df[value] = unseen_df[key].shift(-12)\n",
    "unseen_df = unseen_df.dropna()"
   ]
  },
  {
   "cell_type": "code",
   "execution_count": 4,
   "metadata": {},
   "outputs": [
    {
     "data": {
      "text/html": [
       "<div>\n",
       "<style scoped>\n",
       "    .dataframe tbody tr th:only-of-type {\n",
       "        vertical-align: middle;\n",
       "    }\n",
       "\n",
       "    .dataframe tbody tr th {\n",
       "        vertical-align: top;\n",
       "    }\n",
       "\n",
       "    .dataframe thead th {\n",
       "        text-align: right;\n",
       "    }\n",
       "</style>\n",
       "<table border=\"1\" class=\"dataframe\">\n",
       "  <thead>\n",
       "    <tr style=\"text-align: right;\">\n",
       "      <th></th>\n",
       "      <th>ds</th>\n",
       "      <th>airTemp</th>\n",
       "      <th>humidity</th>\n",
       "      <th>dewpoint</th>\n",
       "      <th>precipitation</th>\n",
       "      <th>y</th>\n",
       "      <th>Road_Surface_Temperature</th>\n",
       "      <th>Water_Film_Surface_mm</th>\n",
       "      <th>temp_forecast</th>\n",
       "      <th>humidity_forecast</th>\n",
       "      <th>dewpoint_forecast</th>\n",
       "      <th>precipitation_forecast</th>\n",
       "    </tr>\n",
       "  </thead>\n",
       "  <tbody>\n",
       "    <tr>\n",
       "      <th>6036</th>\n",
       "      <td>2023-12-12 22:00:00</td>\n",
       "      <td>-11.9</td>\n",
       "      <td>85.0</td>\n",
       "      <td>-14.0</td>\n",
       "      <td>4.0</td>\n",
       "      <td>0.486034</td>\n",
       "      <td>-10.898510</td>\n",
       "      <td>0.062336</td>\n",
       "      <td>-11.7</td>\n",
       "      <td>86.0</td>\n",
       "      <td>-13.65</td>\n",
       "      <td>4.0</td>\n",
       "    </tr>\n",
       "    <tr>\n",
       "      <th>6037</th>\n",
       "      <td>2023-12-12 22:10:00</td>\n",
       "      <td>-11.8</td>\n",
       "      <td>85.0</td>\n",
       "      <td>-13.9</td>\n",
       "      <td>4.0</td>\n",
       "      <td>0.487912</td>\n",
       "      <td>-10.883616</td>\n",
       "      <td>0.061816</td>\n",
       "      <td>-11.7</td>\n",
       "      <td>86.0</td>\n",
       "      <td>-13.60</td>\n",
       "      <td>4.0</td>\n",
       "    </tr>\n",
       "    <tr>\n",
       "      <th>6038</th>\n",
       "      <td>2023-12-12 22:20:00</td>\n",
       "      <td>-11.8</td>\n",
       "      <td>85.0</td>\n",
       "      <td>-13.8</td>\n",
       "      <td>4.0</td>\n",
       "      <td>0.502117</td>\n",
       "      <td>-11.007122</td>\n",
       "      <td>0.058251</td>\n",
       "      <td>-11.6</td>\n",
       "      <td>87.0</td>\n",
       "      <td>-13.50</td>\n",
       "      <td>4.0</td>\n",
       "    </tr>\n",
       "    <tr>\n",
       "      <th>6039</th>\n",
       "      <td>2023-12-12 22:30:00</td>\n",
       "      <td>-11.8</td>\n",
       "      <td>86.0</td>\n",
       "      <td>-13.7</td>\n",
       "      <td>4.0</td>\n",
       "      <td>0.499863</td>\n",
       "      <td>-11.044707</td>\n",
       "      <td>0.058813</td>\n",
       "      <td>-11.6</td>\n",
       "      <td>85.0</td>\n",
       "      <td>-13.60</td>\n",
       "      <td>4.0</td>\n",
       "    </tr>\n",
       "    <tr>\n",
       "      <th>6040</th>\n",
       "      <td>2023-12-12 22:40:00</td>\n",
       "      <td>-11.8</td>\n",
       "      <td>86.0</td>\n",
       "      <td>-13.7</td>\n",
       "      <td>4.0</td>\n",
       "      <td>0.472643</td>\n",
       "      <td>-11.070496</td>\n",
       "      <td>0.065863</td>\n",
       "      <td>-11.5</td>\n",
       "      <td>86.0</td>\n",
       "      <td>-13.40</td>\n",
       "      <td>4.0</td>\n",
       "    </tr>\n",
       "    <tr>\n",
       "      <th>6041</th>\n",
       "      <td>2023-12-12 22:50:00</td>\n",
       "      <td>-11.8</td>\n",
       "      <td>87.0</td>\n",
       "      <td>-13.5</td>\n",
       "      <td>4.0</td>\n",
       "      <td>0.424350</td>\n",
       "      <td>-11.053211</td>\n",
       "      <td>0.079743</td>\n",
       "      <td>-11.5</td>\n",
       "      <td>86.0</td>\n",
       "      <td>-13.40</td>\n",
       "      <td>4.0</td>\n",
       "    </tr>\n",
       "    <tr>\n",
       "      <th>6042</th>\n",
       "      <td>2023-12-12 23:00:00</td>\n",
       "      <td>-11.8</td>\n",
       "      <td>88.0</td>\n",
       "      <td>-13.4</td>\n",
       "      <td>4.0</td>\n",
       "      <td>0.400226</td>\n",
       "      <td>-10.995973</td>\n",
       "      <td>0.087472</td>\n",
       "      <td>-11.5</td>\n",
       "      <td>85.0</td>\n",
       "      <td>-13.50</td>\n",
       "      <td>4.0</td>\n",
       "    </tr>\n",
       "    <tr>\n",
       "      <th>6043</th>\n",
       "      <td>2023-12-12 23:10:00</td>\n",
       "      <td>-11.7</td>\n",
       "      <td>87.0</td>\n",
       "      <td>-13.5</td>\n",
       "      <td>4.0</td>\n",
       "      <td>0.398024</td>\n",
       "      <td>-10.905258</td>\n",
       "      <td>0.088195</td>\n",
       "      <td>-11.4</td>\n",
       "      <td>86.0</td>\n",
       "      <td>-13.40</td>\n",
       "      <td>4.0</td>\n",
       "    </tr>\n",
       "    <tr>\n",
       "      <th>6044</th>\n",
       "      <td>2023-12-12 23:20:00</td>\n",
       "      <td>-11.6</td>\n",
       "      <td>86.0</td>\n",
       "      <td>-13.5</td>\n",
       "      <td>4.0</td>\n",
       "      <td>0.400758</td>\n",
       "      <td>-10.965377</td>\n",
       "      <td>0.087297</td>\n",
       "      <td>-11.4</td>\n",
       "      <td>86.0</td>\n",
       "      <td>-13.30</td>\n",
       "      <td>4.0</td>\n",
       "    </tr>\n",
       "    <tr>\n",
       "      <th>6045</th>\n",
       "      <td>2023-12-12 23:30:00</td>\n",
       "      <td>-11.6</td>\n",
       "      <td>86.0</td>\n",
       "      <td>-13.5</td>\n",
       "      <td>4.0</td>\n",
       "      <td>0.407474</td>\n",
       "      <td>-10.789198</td>\n",
       "      <td>0.085077</td>\n",
       "      <td>-11.4</td>\n",
       "      <td>86.0</td>\n",
       "      <td>-13.30</td>\n",
       "      <td>4.0</td>\n",
       "    </tr>\n",
       "    <tr>\n",
       "      <th>6046</th>\n",
       "      <td>2023-12-12 23:40:00</td>\n",
       "      <td>-11.6</td>\n",
       "      <td>86.0</td>\n",
       "      <td>-13.6</td>\n",
       "      <td>4.0</td>\n",
       "      <td>0.427345</td>\n",
       "      <td>-10.850494</td>\n",
       "      <td>0.078848</td>\n",
       "      <td>-11.4</td>\n",
       "      <td>86.0</td>\n",
       "      <td>-13.30</td>\n",
       "      <td>4.0</td>\n",
       "    </tr>\n",
       "    <tr>\n",
       "      <th>6047</th>\n",
       "      <td>2023-12-12 23:50:00</td>\n",
       "      <td>-11.7</td>\n",
       "      <td>86.0</td>\n",
       "      <td>-13.7</td>\n",
       "      <td>4.0</td>\n",
       "      <td>0.441538</td>\n",
       "      <td>-10.731363</td>\n",
       "      <td>0.074579</td>\n",
       "      <td>-11.3</td>\n",
       "      <td>87.0</td>\n",
       "      <td>-13.10</td>\n",
       "      <td>4.0</td>\n",
       "    </tr>\n",
       "  </tbody>\n",
       "</table>\n",
       "</div>"
      ],
      "text/plain": [
       "                      ds  airTemp  humidity  dewpoint  precipitation  \\\n",
       "6036 2023-12-12 22:00:00    -11.9      85.0     -14.0            4.0   \n",
       "6037 2023-12-12 22:10:00    -11.8      85.0     -13.9            4.0   \n",
       "6038 2023-12-12 22:20:00    -11.8      85.0     -13.8            4.0   \n",
       "6039 2023-12-12 22:30:00    -11.8      86.0     -13.7            4.0   \n",
       "6040 2023-12-12 22:40:00    -11.8      86.0     -13.7            4.0   \n",
       "6041 2023-12-12 22:50:00    -11.8      87.0     -13.5            4.0   \n",
       "6042 2023-12-12 23:00:00    -11.8      88.0     -13.4            4.0   \n",
       "6043 2023-12-12 23:10:00    -11.7      87.0     -13.5            4.0   \n",
       "6044 2023-12-12 23:20:00    -11.6      86.0     -13.5            4.0   \n",
       "6045 2023-12-12 23:30:00    -11.6      86.0     -13.5            4.0   \n",
       "6046 2023-12-12 23:40:00    -11.6      86.0     -13.6            4.0   \n",
       "6047 2023-12-12 23:50:00    -11.7      86.0     -13.7            4.0   \n",
       "\n",
       "             y  Road_Surface_Temperature  Water_Film_Surface_mm  \\\n",
       "6036  0.486034                -10.898510               0.062336   \n",
       "6037  0.487912                -10.883616               0.061816   \n",
       "6038  0.502117                -11.007122               0.058251   \n",
       "6039  0.499863                -11.044707               0.058813   \n",
       "6040  0.472643                -11.070496               0.065863   \n",
       "6041  0.424350                -11.053211               0.079743   \n",
       "6042  0.400226                -10.995973               0.087472   \n",
       "6043  0.398024                -10.905258               0.088195   \n",
       "6044  0.400758                -10.965377               0.087297   \n",
       "6045  0.407474                -10.789198               0.085077   \n",
       "6046  0.427345                -10.850494               0.078848   \n",
       "6047  0.441538                -10.731363               0.074579   \n",
       "\n",
       "      temp_forecast  humidity_forecast  dewpoint_forecast  \\\n",
       "6036          -11.7               86.0             -13.65   \n",
       "6037          -11.7               86.0             -13.60   \n",
       "6038          -11.6               87.0             -13.50   \n",
       "6039          -11.6               85.0             -13.60   \n",
       "6040          -11.5               86.0             -13.40   \n",
       "6041          -11.5               86.0             -13.40   \n",
       "6042          -11.5               85.0             -13.50   \n",
       "6043          -11.4               86.0             -13.40   \n",
       "6044          -11.4               86.0             -13.30   \n",
       "6045          -11.4               86.0             -13.30   \n",
       "6046          -11.4               86.0             -13.30   \n",
       "6047          -11.3               87.0             -13.10   \n",
       "\n",
       "      precipitation_forecast  \n",
       "6036                     4.0  \n",
       "6037                     4.0  \n",
       "6038                     4.0  \n",
       "6039                     4.0  \n",
       "6040                     4.0  \n",
       "6041                     4.0  \n",
       "6042                     4.0  \n",
       "6043                     4.0  \n",
       "6044                     4.0  \n",
       "6045                     4.0  \n",
       "6046                     4.0  \n",
       "6047                     4.0  "
      ]
     },
     "execution_count": 4,
     "metadata": {},
     "output_type": "execute_result"
    }
   ],
   "source": [
    "fcst_df = unseen_df[(unseen_df.ds >= \"2023-12-12 22:00:00\") & (unseen_df.ds < \"2023-12-13 00:00:00\")]\n",
    "fcst_df"
   ]
  },
  {
   "cell_type": "code",
   "execution_count": 5,
   "metadata": {},
   "outputs": [],
   "source": [
    "# Disable logging messages unless there is an error\n",
    "set_log_level(\"ERROR\")"
   ]
  },
  {
   "cell_type": "code",
   "execution_count": 6,
   "metadata": {},
   "outputs": [
    {
     "name": "stderr",
     "output_type": "stream",
     "text": [
      "WARNING - (py.warnings._showwarnmsg) - c:\\Users\\kiril\\Documents\\GitHub\\ML_project\\.venv\\Lib\\site-packages\\neuralprophet\\df_utils.py:1152: FutureWarning: Series.view is deprecated and will be removed in a future version. Use ``astype`` as an alternative to change the dtype.\n",
      "  converted_ds = pd.to_datetime(ds_col, utc=True).view(dtype=np.int64)\n",
      "\n",
      "WARNING - (py.warnings._showwarnmsg) - c:\\Users\\kiril\\Documents\\GitHub\\ML_project\\.venv\\Lib\\site-packages\\neuralprophet\\df_utils.py:1152: FutureWarning: Series.view is deprecated and will be removed in a future version. Use ``astype`` as an alternative to change the dtype.\n",
      "  converted_ds = pd.to_datetime(ds_col, utc=True).view(dtype=np.int64)\n",
      "\n",
      "WARNING - (py.warnings._showwarnmsg) - c:\\Users\\kiril\\Documents\\GitHub\\ML_project\\.venv\\Lib\\site-packages\\neuralprophet\\df_utils.py:1152: FutureWarning: Series.view is deprecated and will be removed in a future version. Use ``astype`` as an alternative to change the dtype.\n",
      "  converted_ds = pd.to_datetime(ds_col, utc=True).view(dtype=np.int64)\n",
      "\n"
     ]
    },
    {
     "name": "stdout",
     "output_type": "stream",
     "text": [
      "Training: |          | 0/? [00:00<?, ?it/s]WARNING:tensorflow:From c:\\Users\\kiril\\Documents\\GitHub\\ML_project\\.venv\\Lib\\site-packages\\keras\\src\\losses.py:2976: The name tf.losses.sparse_softmax_cross_entropy is deprecated. Please use tf.compat.v1.losses.sparse_softmax_cross_entropy instead.\n",
      "\n",
      "Epoch 1:   1%|          | 1/100 [00:00<00:00, 1002.46it/s]"
     ]
    },
    {
     "name": "stderr",
     "output_type": "stream",
     "text": [
      "WARNING - (py.warnings._showwarnmsg) - c:\\Users\\kiril\\Documents\\GitHub\\ML_project\\.venv\\Lib\\site-packages\\pytorch_lightning\\utilities\\data.py:78: Trying to infer the `batch_size` from an ambiguous collection. The batch size we found is 128. To avoid any miscalculations, use `self.log(..., batch_size=batch_size)`.\n",
      "\n",
      "WARNING - (py.warnings._showwarnmsg) - c:\\Users\\kiril\\Documents\\GitHub\\ML_project\\.venv\\Lib\\site-packages\\pytorch_lightning\\utilities\\data.py:78: Trying to infer the `batch_size` from an ambiguous collection. The batch size we found is 37. To avoid any miscalculations, use `self.log(..., batch_size=batch_size)`.\n",
      "\n"
     ]
    },
    {
     "name": "stdout",
     "output_type": "stream",
     "text": [
      "Training: |          | 0/? [06:16<?, ?it/s, v_num=12, train_loss=0.0199, reg_loss=0.000, MAE=0.0455, RMSE=0.0697, Loss=0.0199, RegLoss=0.000]\n"
     ]
    },
    {
     "data": {
      "image/png": "[encoded data removed]",
      "text/plain": [
       "<Figure size 640x480 with 1 Axes>"
      ]
     },
     "metadata": {},
     "output_type": "display_data"
    }
   ],
   "source": [
    "# Lagged regressors are the data from the past\n",
    "lagged_regressors = [\"airTemp\", \"humidity\", \"dewpoint\",\n",
    "                     \"precipitation\", \"Water_Film_Surface_mm\",\n",
    "                     \"Road_Surface_Temperature\"]\n",
    "\n",
    "m = NeuralProphet(n_changepoints=100,\n",
    "                  yearly_seasonality=False,\n",
    "                  weekly_seasonality=False,\n",
    "                  daily_seasonality=True,\n",
    "                  changepoints_range=0.95,\n",
    "                  trend_reg=0.9,\n",
    "                  growth=\"off\",\n",
    "                  ar_layers=[32, 16, 8, 4],\n",
    "                  lagged_reg_layers=[8, 8, 4],\n",
    "                  future_regressors_model=\"neural_nets\",\n",
    "                  future_regressors_d_hidden=6,\n",
    "                  future_regressors_num_hidden_layers=3,\n",
    "                  learning_rate=0.001,\n",
    "                  quantiles=[0.2, 0.8],\n",
    "                  n_forecasts=12,\n",
    "                  )\n",
    "n_lags = 36\n",
    "\n",
    "m.add_lagged_regressor(lagged_regressors, n_lags=n_lags)\n",
    "\n",
    "# Future regressors are from future, so weather forecast for example\n",
    "m.add_future_regressor(\"temp_forecast\")\n",
    "m.add_future_regressor(\"humidity_forecast\")\n",
    "m.add_future_regressor(\"dewpoint_forecast\")\n",
    "m.add_future_regressor(\"precipitation_forecast\")\n",
    "\n",
    "metrics = m.fit(train_df, freq=\"10min\", progress=\"plot\", early_stopping=True, epochs = 100)\n"
   ]
  },
  {
   "cell_type": "code",
   "execution_count": 7,
   "metadata": {},
   "outputs": [
    {
     "name": "stderr",
     "output_type": "stream",
     "text": [
      "WARNING - (py.warnings._showwarnmsg) - c:\\Users\\kiril\\Documents\\GitHub\\ML_project\\.venv\\Lib\\site-packages\\neuralprophet\\df_utils.py:1152: FutureWarning: Series.view is deprecated and will be removed in a future version. Use ``astype`` as an alternative to change the dtype.\n",
      "  converted_ds = pd.to_datetime(ds_col, utc=True).view(dtype=np.int64)\n",
      "\n",
      "WARNING - (py.warnings._showwarnmsg) - c:\\Users\\kiril\\Documents\\GitHub\\ML_project\\.venv\\Lib\\site-packages\\neuralprophet\\df_utils.py:1152: FutureWarning: Series.view is deprecated and will be removed in a future version. Use ``astype`` as an alternative to change the dtype.\n",
      "  converted_ds = pd.to_datetime(ds_col, utc=True).view(dtype=np.int64)\n",
      "\n",
      "WARNING - (py.warnings._showwarnmsg) - c:\\Users\\kiril\\Documents\\GitHub\\ML_project\\.venv\\Lib\\site-packages\\neuralprophet\\df_utils.py:1152: FutureWarning: Series.view is deprecated and will be removed in a future version. Use ``astype`` as an alternative to change the dtype.\n",
      "  converted_ds = pd.to_datetime(ds_col, utc=True).view(dtype=np.int64)\n",
      "\n",
      "WARNING - (py.warnings._showwarnmsg) - c:\\Users\\kiril\\Documents\\GitHub\\ML_project\\.venv\\Lib\\site-packages\\neuralprophet\\data\\split.py:273: FutureWarning: The behavior of DataFrame concatenation with empty or all-NA entries is deprecated. In a future version, this will no longer exclude empty or all-NA columns when determining the result dtypes. To retain the old behavior, exclude the relevant entries before the concat operation.\n",
      "  df = pd.concat([df, future_df])\n",
      "\n"
     ]
    }
   ],
   "source": [
    "future = m.make_future_dataframe(test_df, periods=1, regressors_df=fcst_df, n_historic_predictions=132)"
   ]
  },
  {
   "cell_type": "code",
   "execution_count": 8,
   "metadata": {},
   "outputs": [
    {
     "name": "stderr",
     "output_type": "stream",
     "text": [
      "WARNING - (py.warnings._showwarnmsg) - c:\\Users\\kiril\\Documents\\GitHub\\ML_project\\.venv\\Lib\\site-packages\\neuralprophet\\df_utils.py:1152: FutureWarning: Series.view is deprecated and will be removed in a future version. Use ``astype`` as an alternative to change the dtype.\n",
      "  converted_ds = pd.to_datetime(ds_col, utc=True).view(dtype=np.int64)\n",
      "\n",
      "WARNING - (py.warnings._showwarnmsg) - c:\\Users\\kiril\\Documents\\GitHub\\ML_project\\.venv\\Lib\\site-packages\\neuralprophet\\df_utils.py:1152: FutureWarning: Series.view is deprecated and will be removed in a future version. Use ``astype`` as an alternative to change the dtype.\n",
      "  converted_ds = pd.to_datetime(ds_col, utc=True).view(dtype=np.int64)\n",
      "\n",
      "WARNING - (py.warnings._showwarnmsg) - c:\\Users\\kiril\\Documents\\GitHub\\ML_project\\.venv\\Lib\\site-packages\\neuralprophet\\df_utils.py:1152: FutureWarning: Series.view is deprecated and will be removed in a future version. Use ``astype`` as an alternative to change the dtype.\n",
      "  converted_ds = pd.to_datetime(ds_col, utc=True).view(dtype=np.int64)\n",
      "\n",
      "WARNING - (py.warnings._showwarnmsg) - c:\\Users\\kiril\\Documents\\GitHub\\ML_project\\.venv\\Lib\\site-packages\\neuralprophet\\df_utils.py:1152: FutureWarning: Series.view is deprecated and will be removed in a future version. Use ``astype`` as an alternative to change the dtype.\n",
      "  converted_ds = pd.to_datetime(ds_col, utc=True).view(dtype=np.int64)\n",
      "\n",
      "WARNING - (py.warnings._showwarnmsg) - c:\\Users\\kiril\\Documents\\GitHub\\ML_project\\.venv\\Lib\\site-packages\\neuralprophet\\df_utils.py:1152: FutureWarning: Series.view is deprecated and will be removed in a future version. Use ``astype`` as an alternative to change the dtype.\n",
      "  converted_ds = pd.to_datetime(ds_col, utc=True).view(dtype=np.int64)\n",
      "\n",
      "WARNING - (py.warnings._showwarnmsg) - c:\\Users\\kiril\\Documents\\GitHub\\ML_project\\.venv\\Lib\\site-packages\\neuralprophet\\df_utils.py:1152: FutureWarning: Series.view is deprecated and will be removed in a future version. Use ``astype`` as an alternative to change the dtype.\n",
      "  converted_ds = pd.to_datetime(ds_col, utc=True).view(dtype=np.int64)\n",
      "\n"
     ]
    },
    {
     "name": "stdout",
     "output_type": "stream",
     "text": [
      "Predicting DataLoader 0: 100%|██████████| 1/1 [00:00<00:00, 167.14it/s]"
     ]
    },
    {
     "name": "stderr",
     "output_type": "stream",
     "text": [
      "WARNING - (py.warnings._showwarnmsg) - c:\\Users\\kiril\\Documents\\GitHub\\ML_project\\.venv\\Lib\\site-packages\\neuralprophet\\data\\process.py:127: PerformanceWarning: DataFrame is highly fragmented.  This is usually the result of calling `frame.insert` many times, which has poor performance.  Consider joining all columns at once using pd.concat(axis=1) instead. To get a de-fragmented frame, use `newframe = frame.copy()`\n",
      "  df_forecast[name] = yhat\n",
      "\n",
      "WARNING - (py.warnings._showwarnmsg) - c:\\Users\\kiril\\Documents\\GitHub\\ML_project\\.venv\\Lib\\site-packages\\neuralprophet\\data\\process.py:127: PerformanceWarning: DataFrame is highly fragmented.  This is usually the result of calling `frame.insert` many times, which has poor performance.  Consider joining all columns at once using pd.concat(axis=1) instead. To get a de-fragmented frame, use `newframe = frame.copy()`\n",
      "  df_forecast[name] = yhat\n",
      "\n",
      "WARNING - (py.warnings._showwarnmsg) - c:\\Users\\kiril\\Documents\\GitHub\\ML_project\\.venv\\Lib\\site-packages\\neuralprophet\\data\\process.py:127: PerformanceWarning: DataFrame is highly fragmented.  This is usually the result of calling `frame.insert` many times, which has poor performance.  Consider joining all columns at once using pd.concat(axis=1) instead. To get a de-fragmented frame, use `newframe = frame.copy()`\n",
      "  df_forecast[name] = yhat\n",
      "\n",
      "WARNING - (py.warnings._showwarnmsg) - c:\\Users\\kiril\\Documents\\GitHub\\ML_project\\.venv\\Lib\\site-packages\\neuralprophet\\data\\process.py:127: PerformanceWarning: DataFrame is highly fragmented.  This is usually the result of calling `frame.insert` many times, which has poor performance.  Consider joining all columns at once using pd.concat(axis=1) instead. To get a de-fragmented frame, use `newframe = frame.copy()`\n",
      "  df_forecast[name] = yhat\n",
      "\n",
      "WARNING - (py.warnings._showwarnmsg) - c:\\Users\\kiril\\Documents\\GitHub\\ML_project\\.venv\\Lib\\site-packages\\neuralprophet\\data\\process.py:127: PerformanceWarning: DataFrame is highly fragmented.  This is usually the result of calling `frame.insert` many times, which has poor performance.  Consider joining all columns at once using pd.concat(axis=1) instead. To get a de-fragmented frame, use `newframe = frame.copy()`\n",
      "  df_forecast[name] = yhat\n",
      "\n",
      "WARNING - (py.warnings._showwarnmsg) - c:\\Users\\kiril\\Documents\\GitHub\\ML_project\\.venv\\Lib\\site-packages\\neuralprophet\\data\\process.py:127: PerformanceWarning: DataFrame is highly fragmented.  This is usually the result of calling `frame.insert` many times, which has poor performance.  Consider joining all columns at once using pd.concat(axis=1) instead. To get a de-fragmented frame, use `newframe = frame.copy()`\n",
      "  df_forecast[name] = yhat\n",
      "\n",
      "WARNING - (py.warnings._showwarnmsg) - c:\\Users\\kiril\\Documents\\GitHub\\ML_project\\.venv\\Lib\\site-packages\\neuralprophet\\data\\process.py:127: PerformanceWarning: DataFrame is highly fragmented.  This is usually the result of calling `frame.insert` many times, which has poor performance.  Consider joining all columns at once using pd.concat(axis=1) instead. To get a de-fragmented frame, use `newframe = frame.copy()`\n",
      "  df_forecast[name] = yhat\n",
      "\n",
      "WARNING - (py.warnings._showwarnmsg) - c:\\Users\\kiril\\Documents\\GitHub\\ML_project\\.venv\\Lib\\site-packages\\neuralprophet\\data\\process.py:127: PerformanceWarning: DataFrame is highly fragmented.  This is usually the result of calling `frame.insert` many times, which has poor performance.  Consider joining all columns at once using pd.concat(axis=1) instead. To get a de-fragmented frame, use `newframe = frame.copy()`\n",
      "  df_forecast[name] = yhat\n",
      "\n",
      "WARNING - (py.warnings._showwarnmsg) - c:\\Users\\kiril\\Documents\\GitHub\\ML_project\\.venv\\Lib\\site-packages\\neuralprophet\\data\\process.py:127: PerformanceWarning: DataFrame is highly fragmented.  This is usually the result of calling `frame.insert` many times, which has poor performance.  Consider joining all columns at once using pd.concat(axis=1) instead. To get a de-fragmented frame, use `newframe = frame.copy()`\n",
      "  df_forecast[name] = yhat\n",
      "\n",
      "WARNING - (py.warnings._showwarnmsg) - c:\\Users\\kiril\\Documents\\GitHub\\ML_project\\.venv\\Lib\\site-packages\\neuralprophet\\data\\process.py:127: PerformanceWarning: DataFrame is highly fragmented.  This is usually the result of calling `frame.insert` many times, which has poor performance.  Consider joining all columns at once using pd.concat(axis=1) instead. To get a de-fragmented frame, use `newframe = frame.copy()`\n",
      "  df_forecast[name] = yhat\n",
      "\n",
      "WARNING - (py.warnings._showwarnmsg) - c:\\Users\\kiril\\Documents\\GitHub\\ML_project\\.venv\\Lib\\site-packages\\neuralprophet\\data\\process.py:127: PerformanceWarning: DataFrame is highly fragmented.  This is usually the result of calling `frame.insert` many times, which has poor performance.  Consider joining all columns at once using pd.concat(axis=1) instead. To get a de-fragmented frame, use `newframe = frame.copy()`\n",
      "  df_forecast[name] = yhat\n",
      "\n"
     ]
    },
    {
     "name": "stdout",
     "output_type": "stream",
     "text": [
      "\n"
     ]
    }
   ],
   "source": [
    "fcst = m.predict(future)\n",
    "latest_fcst = m.get_latest_forecast(fcst)\n"
   ]
  },
  {
   "cell_type": "code",
   "execution_count": 9,
   "metadata": {},
   "outputs": [
    {
     "name": "stderr",
     "output_type": "stream",
     "text": [
      "WARNING - (py.warnings._showwarnmsg) - c:\\Users\\kiril\\Documents\\GitHub\\ML_project\\.venv\\Lib\\site-packages\\neuralprophet\\df_utils.py:1152: FutureWarning: Series.view is deprecated and will be removed in a future version. Use ``astype`` as an alternative to change the dtype.\n",
      "  converted_ds = pd.to_datetime(ds_col, utc=True).view(dtype=np.int64)\n",
      "\n",
      "WARNING - (py.warnings._showwarnmsg) - c:\\Users\\kiril\\Documents\\GitHub\\ML_project\\.venv\\Lib\\site-packages\\neuralprophet\\df_utils.py:1152: FutureWarning: Series.view is deprecated and will be removed in a future version. Use ``astype`` as an alternative to change the dtype.\n",
      "  converted_ds = pd.to_datetime(ds_col, utc=True).view(dtype=np.int64)\n",
      "\n",
      "WARNING - (py.warnings._showwarnmsg) - c:\\Users\\kiril\\Documents\\GitHub\\ML_project\\.venv\\Lib\\site-packages\\neuralprophet\\df_utils.py:1152: FutureWarning: Series.view is deprecated and will be removed in a future version. Use ``astype`` as an alternative to change the dtype.\n",
      "  converted_ds = pd.to_datetime(ds_col, utc=True).view(dtype=np.int64)\n",
      "\n",
      "WARNING - (py.warnings._showwarnmsg) - c:\\Users\\kiril\\Documents\\GitHub\\ML_project\\.venv\\Lib\\site-packages\\neuralprophet\\data\\split.py:69: FutureWarning: The behavior of DataFrame concatenation with empty or all-NA entries is deprecated. In a future version, this will no longer exclude empty or all-NA columns when determining the result dtypes. To retain the old behavior, exclude the relevant entries before the concat operation.\n",
      "  df_i = pd.concat([df_i, future_df])\n",
      "\n",
      "WARNING - (py.warnings._showwarnmsg) - c:\\Users\\kiril\\Documents\\GitHub\\ML_project\\.venv\\Lib\\site-packages\\neuralprophet\\df_utils.py:1152: FutureWarning: Series.view is deprecated and will be removed in a future version. Use ``astype`` as an alternative to change the dtype.\n",
      "  converted_ds = pd.to_datetime(ds_col, utc=True).view(dtype=np.int64)\n",
      "\n",
      "WARNING - (py.warnings._showwarnmsg) - c:\\Users\\kiril\\Documents\\GitHub\\ML_project\\.venv\\Lib\\site-packages\\neuralprophet\\df_utils.py:1152: FutureWarning: Series.view is deprecated and will be removed in a future version. Use ``astype`` as an alternative to change the dtype.\n",
      "  converted_ds = pd.to_datetime(ds_col, utc=True).view(dtype=np.int64)\n",
      "\n",
      "WARNING - (py.warnings._showwarnmsg) - c:\\Users\\kiril\\Documents\\GitHub\\ML_project\\.venv\\Lib\\site-packages\\neuralprophet\\df_utils.py:1152: FutureWarning: Series.view is deprecated and will be removed in a future version. Use ``astype`` as an alternative to change the dtype.\n",
      "  converted_ds = pd.to_datetime(ds_col, utc=True).view(dtype=np.int64)\n",
      "\n"
     ]
    },
    {
     "name": "stdout",
     "output_type": "stream",
     "text": [
      "Predicting DataLoader 0: 100%|██████████| 1/1 [00:00<00:00, 167.12it/s]\n"
     ]
    },
    {
     "name": "stderr",
     "output_type": "stream",
     "text": [
      "WARNING - (py.warnings._showwarnmsg) - c:\\Users\\kiril\\Documents\\GitHub\\ML_project\\.venv\\Lib\\site-packages\\neuralprophet\\data\\process.py:127: PerformanceWarning: DataFrame is highly fragmented.  This is usually the result of calling `frame.insert` many times, which has poor performance.  Consider joining all columns at once using pd.concat(axis=1) instead. To get a de-fragmented frame, use `newframe = frame.copy()`\n",
      "  df_forecast[name] = yhat\n",
      "\n",
      "WARNING - (py.warnings._showwarnmsg) - c:\\Users\\kiril\\Documents\\GitHub\\ML_project\\.venv\\Lib\\site-packages\\neuralprophet\\data\\process.py:127: PerformanceWarning: DataFrame is highly fragmented.  This is usually the result of calling `frame.insert` many times, which has poor performance.  Consider joining all columns at once using pd.concat(axis=1) instead. To get a de-fragmented frame, use `newframe = frame.copy()`\n",
      "  df_forecast[name] = yhat\n",
      "\n",
      "WARNING - (py.warnings._showwarnmsg) - c:\\Users\\kiril\\Documents\\GitHub\\ML_project\\.venv\\Lib\\site-packages\\neuralprophet\\data\\process.py:127: PerformanceWarning: DataFrame is highly fragmented.  This is usually the result of calling `frame.insert` many times, which has poor performance.  Consider joining all columns at once using pd.concat(axis=1) instead. To get a de-fragmented frame, use `newframe = frame.copy()`\n",
      "  df_forecast[name] = yhat\n",
      "\n",
      "WARNING - (py.warnings._showwarnmsg) - c:\\Users\\kiril\\Documents\\GitHub\\ML_project\\.venv\\Lib\\site-packages\\neuralprophet\\data\\process.py:127: PerformanceWarning: DataFrame is highly fragmented.  This is usually the result of calling `frame.insert` many times, which has poor performance.  Consider joining all columns at once using pd.concat(axis=1) instead. To get a de-fragmented frame, use `newframe = frame.copy()`\n",
      "  df_forecast[name] = yhat\n",
      "\n",
      "WARNING - (py.warnings._showwarnmsg) - c:\\Users\\kiril\\Documents\\GitHub\\ML_project\\.venv\\Lib\\site-packages\\neuralprophet\\data\\process.py:127: PerformanceWarning: DataFrame is highly fragmented.  This is usually the result of calling `frame.insert` many times, which has poor performance.  Consider joining all columns at once using pd.concat(axis=1) instead. To get a de-fragmented frame, use `newframe = frame.copy()`\n",
      "  df_forecast[name] = yhat\n",
      "\n",
      "WARNING - (py.warnings._showwarnmsg) - c:\\Users\\kiril\\Documents\\GitHub\\ML_project\\.venv\\Lib\\site-packages\\neuralprophet\\data\\process.py:127: PerformanceWarning: DataFrame is highly fragmented.  This is usually the result of calling `frame.insert` many times, which has poor performance.  Consider joining all columns at once using pd.concat(axis=1) instead. To get a de-fragmented frame, use `newframe = frame.copy()`\n",
      "  df_forecast[name] = yhat\n",
      "\n",
      "WARNING - (py.warnings._showwarnmsg) - c:\\Users\\kiril\\Documents\\GitHub\\ML_project\\.venv\\Lib\\site-packages\\neuralprophet\\data\\process.py:127: PerformanceWarning: DataFrame is highly fragmented.  This is usually the result of calling `frame.insert` many times, which has poor performance.  Consider joining all columns at once using pd.concat(axis=1) instead. To get a de-fragmented frame, use `newframe = frame.copy()`\n",
      "  df_forecast[name] = yhat\n",
      "\n",
      "WARNING - (py.warnings._showwarnmsg) - c:\\Users\\kiril\\Documents\\GitHub\\ML_project\\.venv\\Lib\\site-packages\\neuralprophet\\data\\process.py:127: PerformanceWarning: DataFrame is highly fragmented.  This is usually the result of calling `frame.insert` many times, which has poor performance.  Consider joining all columns at once using pd.concat(axis=1) instead. To get a de-fragmented frame, use `newframe = frame.copy()`\n",
      "  df_forecast[name] = yhat\n",
      "\n",
      "WARNING - (py.warnings._showwarnmsg) - c:\\Users\\kiril\\Documents\\GitHub\\ML_project\\.venv\\Lib\\site-packages\\neuralprophet\\data\\process.py:127: PerformanceWarning: DataFrame is highly fragmented.  This is usually the result of calling `frame.insert` many times, which has poor performance.  Consider joining all columns at once using pd.concat(axis=1) instead. To get a de-fragmented frame, use `newframe = frame.copy()`\n",
      "  df_forecast[name] = yhat\n",
      "\n",
      "WARNING - (py.warnings._showwarnmsg) - c:\\Users\\kiril\\Documents\\GitHub\\ML_project\\.venv\\Lib\\site-packages\\neuralprophet\\data\\process.py:127: PerformanceWarning: DataFrame is highly fragmented.  This is usually the result of calling `frame.insert` many times, which has poor performance.  Consider joining all columns at once using pd.concat(axis=1) instead. To get a de-fragmented frame, use `newframe = frame.copy()`\n",
      "  df_forecast[name] = yhat\n",
      "\n",
      "WARNING - (py.warnings._showwarnmsg) - c:\\Users\\kiril\\Documents\\GitHub\\ML_project\\.venv\\Lib\\site-packages\\neuralprophet\\data\\process.py:127: PerformanceWarning: DataFrame is highly fragmented.  This is usually the result of calling `frame.insert` many times, which has poor performance.  Consider joining all columns at once using pd.concat(axis=1) instead. To get a de-fragmented frame, use `newframe = frame.copy()`\n",
      "  df_forecast[name] = yhat\n",
      "\n"
     ]
    }
   ],
   "source": [
    "fcst2 = m.predict(test_df)"
   ]
  },
  {
   "cell_type": "code",
   "execution_count": null,
   "metadata": {},
   "outputs": [],
   "source": []
  },
  {
   "cell_type": "code",
   "execution_count": 10,
   "metadata": {},
   "outputs": [
    {
     "data": {
      "image/png": "[encoded data removed]",
      "text/plain": [
       "<Figure size 640x480 with 1 Axes>"
      ]
     },
     "metadata": {},
     "output_type": "display_data"
    }
   ],
   "source": [
    "whole_day = unseen_df[(unseen_df.ds >= \"2023-12-12 00:00:00\") & (unseen_df.ds < \"2023-12-13 00:00:00\")]\n",
    "\n",
    "# Plot the data\n",
    "fig, ax = plt.subplots()\n",
    "ax.plot(whole_day.ds, whole_day.y)\n",
    "ax.plot(latest_fcst.ds, latest_fcst[\"origin-0\"])\n",
    "ax.plot(fcst2.ds, fcst2[\"yhat1\"])\n",
    "plt.xticks(rotation=45)\n",
    "# Get the x-tick positions\n",
    "xticks = ax.get_xticks()\n",
    "\n",
    "# Add a vertical line at the 3rd x-tick\n",
    "\n",
    "ax.axvline(x=xticks[3], color='blue', linestyle='--', label=f'Look back')\n",
    "ax.axvline(x=xticks[5], color='red', linestyle='--', label=f'Forecast')\n",
    "# Add labels and legend\n",
    "ax.set_xlabel('Time')\n",
    "ax.set_ylabel('Friction')\n",
    "ax.legend()\n",
    "plt.show()"
   ]
  },
  {
   "cell_type": "code",
   "execution_count": 12,
   "metadata": {},
   "outputs": [],
   "source": [
    "from neuralprophet import save\n",
    "save(m, \"NeuralProphet.np\")"
   ]
  },
  {
   "cell_type": "code",
   "execution_count": 15,
   "metadata": {},
   "outputs": [
    {
     "name": "stderr",
     "output_type": "stream",
     "text": [
      "WARNING - (py.warnings._showwarnmsg) - c:\\Users\\kiril\\Documents\\GitHub\\ML_project\\.venv\\Lib\\site-packages\\neuralprophet\\utils.py:103: FutureWarning: You are using `torch.load` with `weights_only=False` (the current default value), which uses the default pickle module implicitly. It is possible to construct malicious pickle data which will execute arbitrary code during unpickling (See https://github.com/pytorch/pytorch/blob/main/SECURITY.md#untrusted-models for more details). In a future release, the default value for `weights_only` will be flipped to `True`. This limits the functions that could be executed during unpickling. Arbitrary objects will no longer be allowed to be loaded via this mode unless they are explicitly allowlisted by the user via `torch.serialization.add_safe_globals`. We recommend you start setting `weights_only=True` for any use case where you don't have full control of the loaded file. Please open an issue on GitHub for any issues related to this experimental feature.\n",
      "  m = torch.load(path, map_location=torch_map_location)\n",
      "\n"
     ]
    },
    {
     "name": "stdout",
     "output_type": "stream",
     "text": [
      "Training: |          | 0/? [00:00<?, ?it/s]"
     ]
    }
   ],
   "source": [
    "from neuralprophet import load\n",
    "model = load(\"NeuralProphet.np\")"
   ]
  },
  {
   "cell_type": "code",
   "execution_count": null,
   "metadata": {},
   "outputs": [],
   "source": []
  }
 ],
 "metadata": {
  "kernelspec": {
   "display_name": ".venv",
   "language": "python",
   "name": "python3"
  },
  "language_info": {
   "codemirror_mode": {
    "name": "ipython",
    "version": 3
   },
   "file_extension": ".py",
   "mimetype": "text/x-python",
   "name": "python",
   "nbconvert_exporter": "python",
   "pygments_lexer": "ipython3",
   "version": "3.11.5"
  }
 },
 "nbformat": 4,
 "nbformat_minor": 2
}
