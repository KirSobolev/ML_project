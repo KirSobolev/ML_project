{
 "cells": [
  {
   "cell_type": "code",
   "execution_count": 1,
   "metadata": {},
   "outputs": [
    {
     "name": "stderr",
     "output_type": "stream",
     "text": [
      "/Users/kirillsobolev/Documents/GitHub/ML_project/.venv/lib/python3.10/site-packages/tqdm/auto.py:21: TqdmWarning: IProgress not found. Please update jupyter and ipywidgets. See https://ipywidgets.readthedocs.io/en/stable/user_install.html\n",
      "  from .autonotebook import tqdm as notebook_tqdm\n"
     ]
    }
   ],
   "source": [
    "# Usual imports\n",
    "import pandas as pd\n",
    "import seaborn as sns\n",
    "import numpy as np\n",
    "\n",
    "import seaborn as sns\n",
    "import matplotlib.pyplot as plt\n",
    "import tensorflow as tf\n",
    "import phik\n",
    "\n",
    "%matplotlib inline\n",
    "\n",
    "# if your Jupyter kernel crashes during this code, use this setting\n",
    "import os\n",
    "os.environ['TF_ENABLE_ONEDNN_OPTS'] = '0'\n",
    "\n",
    "from ydata_profiling import ProfileReport\n",
    "\n",
    "from sklearn import metrics\n",
    "from sklearn.metrics import classification_report\n",
    "from sklearn.metrics import confusion_matrix\n",
    "from sklearn.metrics import accuracy_score\n",
    "from sklearn.metrics import roc_auc_score\n",
    "from fancyimpute import KNN"
   ]
  },
  {
   "cell_type": "code",
   "execution_count": 2,
   "metadata": {},
   "outputs": [
    {
     "data": {
      "text/html": [
       "<div>\n",
       "<style scoped>\n",
       "    .dataframe tbody tr th:only-of-type {\n",
       "        vertical-align: middle;\n",
       "    }\n",
       "\n",
       "    .dataframe tbody tr th {\n",
       "        vertical-align: top;\n",
       "    }\n",
       "\n",
       "    .dataframe thead th {\n",
       "        text-align: right;\n",
       "    }\n",
       "</style>\n",
       "<table border=\"1\" class=\"dataframe\">\n",
       "  <thead>\n",
       "    <tr style=\"text-align: right;\">\n",
       "      <th></th>\n",
       "      <th>ts</th>\n",
       "      <th>airTemp</th>\n",
       "      <th>humidity</th>\n",
       "      <th>dewpoint</th>\n",
       "      <th>precipitation</th>\n",
       "      <th>Friction</th>\n",
       "      <th>Road_Surface_Temperature</th>\n",
       "      <th>Water_Film_Surface_mm</th>\n",
       "    </tr>\n",
       "  </thead>\n",
       "  <tbody>\n",
       "    <tr>\n",
       "      <th>0</th>\n",
       "      <td>2021-11-01 00:05:00</td>\n",
       "      <td>8.8</td>\n",
       "      <td>94.0</td>\n",
       "      <td>7.9</td>\n",
       "      <td>0</td>\n",
       "      <td>0.82</td>\n",
       "      <td>5.082435</td>\n",
       "      <td>0.0</td>\n",
       "    </tr>\n",
       "    <tr>\n",
       "      <th>1</th>\n",
       "      <td>2021-11-01 00:15:00</td>\n",
       "      <td>9.1</td>\n",
       "      <td>91.0</td>\n",
       "      <td>7.7</td>\n",
       "      <td>0</td>\n",
       "      <td>0.82</td>\n",
       "      <td>5.035252</td>\n",
       "      <td>0.0</td>\n",
       "    </tr>\n",
       "    <tr>\n",
       "      <th>2</th>\n",
       "      <td>2021-11-01 00:25:00</td>\n",
       "      <td>9.1</td>\n",
       "      <td>90.0</td>\n",
       "      <td>7.5</td>\n",
       "      <td>0</td>\n",
       "      <td>0.82</td>\n",
       "      <td>4.951386</td>\n",
       "      <td>0.0</td>\n",
       "    </tr>\n",
       "    <tr>\n",
       "      <th>3</th>\n",
       "      <td>2021-11-01 00:35:00</td>\n",
       "      <td>9.2</td>\n",
       "      <td>88.0</td>\n",
       "      <td>7.3</td>\n",
       "      <td>0</td>\n",
       "      <td>0.82</td>\n",
       "      <td>5.077870</td>\n",
       "      <td>0.0</td>\n",
       "    </tr>\n",
       "    <tr>\n",
       "      <th>4</th>\n",
       "      <td>2021-11-01 00:45:00</td>\n",
       "      <td>9.2</td>\n",
       "      <td>86.0</td>\n",
       "      <td>7.0</td>\n",
       "      <td>0</td>\n",
       "      <td>0.82</td>\n",
       "      <td>4.919721</td>\n",
       "      <td>0.0</td>\n",
       "    </tr>\n",
       "  </tbody>\n",
       "</table>\n",
       "</div>"
      ],
      "text/plain": [
       "                    ts  airTemp  humidity  dewpoint  precipitation  Friction  \\\n",
       "0  2021-11-01 00:05:00      8.8      94.0       7.9              0      0.82   \n",
       "1  2021-11-01 00:15:00      9.1      91.0       7.7              0      0.82   \n",
       "2  2021-11-01 00:25:00      9.1      90.0       7.5              0      0.82   \n",
       "3  2021-11-01 00:35:00      9.2      88.0       7.3              0      0.82   \n",
       "4  2021-11-01 00:45:00      9.2      86.0       7.0              0      0.82   \n",
       "\n",
       "   Road_Surface_Temperature  Water_Film_Surface_mm  \n",
       "0                  5.082435                    0.0  \n",
       "1                  5.035252                    0.0  \n",
       "2                  4.951386                    0.0  \n",
       "3                  5.077870                    0.0  \n",
       "4                  4.919721                    0.0  "
      ]
     },
     "execution_count": 2,
     "metadata": {},
     "output_type": "execute_result"
    }
   ],
   "source": [
    "# Read csv file into dataframe\n",
    "df = pd.read_csv(\"../ready_data/merged_starwis_and_weather.csv\")\n",
    "\n",
    "df.head()"
   ]
  },
  {
   "cell_type": "code",
   "execution_count": 3,
   "metadata": {},
   "outputs": [
    {
     "data": {
      "text/plain": [
       "ts                          0\n",
       "airTemp                     0\n",
       "humidity                    0\n",
       "dewpoint                    0\n",
       "precipitation               0\n",
       "Friction                    0\n",
       "Road_Surface_Temperature    0\n",
       "Water_Film_Surface_mm       0\n",
       "dtype: int64"
      ]
     },
     "execution_count": 3,
     "metadata": {},
     "output_type": "execute_result"
    }
   ],
   "source": [
    "# No missing values for the merged datasets \n",
    "df.isnull().sum()"
   ]
  },
  {
   "cell_type": "code",
   "execution_count": 4,
   "metadata": {},
   "outputs": [
    {
     "data": {
      "text/plain": [
       "0"
      ]
     },
     "execution_count": 4,
     "metadata": {},
     "output_type": "execute_result"
    }
   ],
   "source": [
    "df.duplicated().sum()"
   ]
  },
  {
   "cell_type": "code",
   "execution_count": 5,
   "metadata": {},
   "outputs": [],
   "source": [
    "df = df.drop_duplicates()"
   ]
  },
  {
   "cell_type": "code",
   "execution_count": 6,
   "metadata": {},
   "outputs": [
    {
     "data": {
      "text/html": [
       "<div>\n",
       "<style scoped>\n",
       "    .dataframe tbody tr th:only-of-type {\n",
       "        vertical-align: middle;\n",
       "    }\n",
       "\n",
       "    .dataframe tbody tr th {\n",
       "        vertical-align: top;\n",
       "    }\n",
       "\n",
       "    .dataframe thead th {\n",
       "        text-align: right;\n",
       "    }\n",
       "</style>\n",
       "<table border=\"1\" class=\"dataframe\">\n",
       "  <thead>\n",
       "    <tr style=\"text-align: right;\">\n",
       "      <th></th>\n",
       "      <th>airTemp</th>\n",
       "      <th>humidity</th>\n",
       "      <th>dewpoint</th>\n",
       "      <th>precipitation</th>\n",
       "      <th>Friction</th>\n",
       "      <th>Road_Surface_Temperature</th>\n",
       "      <th>Water_Film_Surface_mm</th>\n",
       "    </tr>\n",
       "  </thead>\n",
       "  <tbody>\n",
       "    <tr>\n",
       "      <th>1.0</th>\n",
       "      <td>0.820084</td>\n",
       "      <td>0.926829</td>\n",
       "      <td>0.928251</td>\n",
       "      <td>0</td>\n",
       "      <td>1.0</td>\n",
       "      <td>0.612128</td>\n",
       "      <td>0.0</td>\n",
       "    </tr>\n",
       "    <tr>\n",
       "      <th>1.1</th>\n",
       "      <td>0.826360</td>\n",
       "      <td>0.890244</td>\n",
       "      <td>0.923767</td>\n",
       "      <td>0</td>\n",
       "      <td>1.0</td>\n",
       "      <td>0.611157</td>\n",
       "      <td>0.0</td>\n",
       "    </tr>\n",
       "    <tr>\n",
       "      <th>1.2</th>\n",
       "      <td>0.826360</td>\n",
       "      <td>0.878049</td>\n",
       "      <td>0.919283</td>\n",
       "      <td>0</td>\n",
       "      <td>1.0</td>\n",
       "      <td>0.609431</td>\n",
       "      <td>0.0</td>\n",
       "    </tr>\n",
       "    <tr>\n",
       "      <th>1.3</th>\n",
       "      <td>0.828452</td>\n",
       "      <td>0.853659</td>\n",
       "      <td>0.914798</td>\n",
       "      <td>0</td>\n",
       "      <td>1.0</td>\n",
       "      <td>0.612034</td>\n",
       "      <td>0.0</td>\n",
       "    </tr>\n",
       "    <tr>\n",
       "      <th>1.4</th>\n",
       "      <td>0.828452</td>\n",
       "      <td>0.829268</td>\n",
       "      <td>0.908072</td>\n",
       "      <td>0</td>\n",
       "      <td>1.0</td>\n",
       "      <td>0.608780</td>\n",
       "      <td>0.0</td>\n",
       "    </tr>\n",
       "    <tr>\n",
       "      <th>...</th>\n",
       "      <td>...</td>\n",
       "      <td>...</td>\n",
       "      <td>...</td>\n",
       "      <td>...</td>\n",
       "      <td>...</td>\n",
       "      <td>...</td>\n",
       "      <td>...</td>\n",
       "    </tr>\n",
       "    <tr>\n",
       "      <th>7355.6</th>\n",
       "      <td>0.767782</td>\n",
       "      <td>0.621951</td>\n",
       "      <td>0.773543</td>\n",
       "      <td>0</td>\n",
       "      <td>1.0</td>\n",
       "      <td>0.633253</td>\n",
       "      <td>0.0</td>\n",
       "    </tr>\n",
       "    <tr>\n",
       "      <th>7355.7</th>\n",
       "      <td>0.763598</td>\n",
       "      <td>0.634146</td>\n",
       "      <td>0.773543</td>\n",
       "      <td>0</td>\n",
       "      <td>1.0</td>\n",
       "      <td>0.630495</td>\n",
       "      <td>0.0</td>\n",
       "    </tr>\n",
       "    <tr>\n",
       "      <th>7355.8</th>\n",
       "      <td>0.753138</td>\n",
       "      <td>0.670732</td>\n",
       "      <td>0.775785</td>\n",
       "      <td>0</td>\n",
       "      <td>1.0</td>\n",
       "      <td>0.625645</td>\n",
       "      <td>0.0</td>\n",
       "    </tr>\n",
       "    <tr>\n",
       "      <th>7355.9</th>\n",
       "      <td>0.744770</td>\n",
       "      <td>0.695122</td>\n",
       "      <td>0.773543</td>\n",
       "      <td>0</td>\n",
       "      <td>1.0</td>\n",
       "      <td>0.621283</td>\n",
       "      <td>0.0</td>\n",
       "    </tr>\n",
       "    <tr>\n",
       "      <th>7356.0</th>\n",
       "      <td>0.738494</td>\n",
       "      <td>0.695122</td>\n",
       "      <td>0.769058</td>\n",
       "      <td>0</td>\n",
       "      <td>1.0</td>\n",
       "      <td>0.619247</td>\n",
       "      <td>0.0</td>\n",
       "    </tr>\n",
       "  </tbody>\n",
       "</table>\n",
       "<p>73551 rows × 7 columns</p>\n",
       "</div>"
      ],
      "text/plain": [
       "         airTemp  humidity  dewpoint  precipitation  Friction  \\\n",
       "1.0     0.820084  0.926829  0.928251              0       1.0   \n",
       "1.1     0.826360  0.890244  0.923767              0       1.0   \n",
       "1.2     0.826360  0.878049  0.919283              0       1.0   \n",
       "1.3     0.828452  0.853659  0.914798              0       1.0   \n",
       "1.4     0.828452  0.829268  0.908072              0       1.0   \n",
       "...          ...       ...       ...            ...       ...   \n",
       "7355.6  0.767782  0.621951  0.773543              0       1.0   \n",
       "7355.7  0.763598  0.634146  0.773543              0       1.0   \n",
       "7355.8  0.753138  0.670732  0.775785              0       1.0   \n",
       "7355.9  0.744770  0.695122  0.773543              0       1.0   \n",
       "7356.0  0.738494  0.695122  0.769058              0       1.0   \n",
       "\n",
       "        Road_Surface_Temperature  Water_Film_Surface_mm  \n",
       "1.0                     0.612128                    0.0  \n",
       "1.1                     0.611157                    0.0  \n",
       "1.2                     0.609431                    0.0  \n",
       "1.3                     0.612034                    0.0  \n",
       "1.4                     0.608780                    0.0  \n",
       "...                          ...                    ...  \n",
       "7355.6                  0.633253                    0.0  \n",
       "7355.7                  0.630495                    0.0  \n",
       "7355.8                  0.625645                    0.0  \n",
       "7355.9                  0.621283                    0.0  \n",
       "7356.0                  0.619247                    0.0  \n",
       "\n",
       "[73551 rows x 7 columns]"
      ]
     },
     "execution_count": 6,
     "metadata": {},
     "output_type": "execute_result"
    }
   ],
   "source": [
    "from sklearn.preprocessing import MinMaxScaler\n",
    "scaler = MinMaxScaler()\n",
    "\n",
    "# cale only relevant variables\n",
    "num_cols = ['airTemp', 'humidity', 'dewpoint', 'Friction',\n",
    "       'Road_Surface_Temperature', 'Water_Film_Surface_mm']\n",
    "df[num_cols] = scaler.fit_transform(df[num_cols])\n",
    "df = df.drop(\"ts\", axis=1)\n",
    "df.index = df.index * 0.1 + 1\n",
    "df"
   ]
  },
  {
   "cell_type": "code",
   "execution_count": 7,
   "metadata": {},
   "outputs": [],
   "source": [
    "value_column = [\"Friction\"]\n"
   ]
  },
  {
   "cell_type": "code",
   "execution_count": 8,
   "metadata": {},
   "outputs": [],
   "source": [
    "cutoff = int(len(df) * 0.8)\n",
    "\n",
    "# train data\n",
    "X_train = df.index[0:cutoff]\n",
    "y_train = df[value_column].iloc[0:cutoff]\n",
    "\n",
    "# test data \n",
    "X_test = df.index[cutoff:]\n",
    "y_test = df[value_column].iloc[cutoff:]\n",
    "\n",
    "# convert everything into NumPy -array format\n",
    "X_train = np.array(X_train)\n",
    "y_train = np.array(y_train)\n",
    "X_test = np.array(X_test)\n",
    "y_test = np.array(y_test)\n",
    "\n",
    "# number of variables is just 1 (the scaled passengers value)\n",
    "n_features = 1\n",
    "\n",
    "# use reshape tools to get the data ready for future use\n",
    "train_series = y_train.reshape((len(y_train), n_features))\n",
    "test_series  = y_test.reshape((len(y_test), n_features))"
   ]
  },
  {
   "cell_type": "code",
   "execution_count": 9,
   "metadata": {},
   "outputs": [
    {
     "data": {
      "text/plain": [
       "array([[1.        ],\n",
       "       [1.        ],\n",
       "       [1.        ],\n",
       "       ...,\n",
       "       [0.63494022],\n",
       "       [0.63415418],\n",
       "       [0.63239583]])"
      ]
     },
     "execution_count": 9,
     "metadata": {},
     "output_type": "execute_result"
    }
   ],
   "source": [
    "train_series"
   ]
  },
  {
   "cell_type": "code",
   "execution_count": 10,
   "metadata": {},
   "outputs": [
    {
     "name": "stdout",
     "output_type": "stream",
     "text": [
      "(58840,) (58840, 1)\n",
      "(14711,) (14711, 1)\n"
     ]
    }
   ],
   "source": [
    "print(X_train.shape, y_train.shape)\n",
    "print(X_test.shape, y_test.shape)"
   ]
  },
  {
   "cell_type": "code",
   "execution_count": 11,
   "metadata": {},
   "outputs": [],
   "source": [
    "%matplotlib inline"
   ]
  },
  {
   "cell_type": "code",
   "execution_count": 12,
   "metadata": {},
   "outputs": [
    {
     "data": {
      "image/png": "[encoded data removed]",
      "text/plain": [
       "<Figure size 1500x400 with 1 Axes>"
      ]
     },
     "metadata": {},
     "output_type": "display_data"
    }
   ],
   "source": [
    "fig, ax = plt.subplots(1, 1, figsize=(15, 4))\n",
    "ax.plot(X_train, y_train, lw=3, label='train data')\n",
    "ax.plot(X_test, y_test,  lw=3, label='test data')\n",
    "ax.legend(loc=\"lower left\")\n",
    "plt.show()"
   ]
  },
  {
   "cell_type": "code",
   "execution_count": 13,
   "metadata": {},
   "outputs": [],
   "source": [
    "from tensorflow.keras.preprocessing.sequence import TimeseriesGenerator\n",
    "\n",
    "# the variable that determines how many points \n",
    "# back into the past the model attempts to learn\n",
    "look_back  = 120\n",
    "\n",
    "\n",
    "batch_size = 64\n",
    "\n",
    "# using 1 => using time steps\n",
    "# anything over 1 => uses windowing\n",
    "window_size = 1\n",
    "\n",
    "# create a separate generator training and testing data\n",
    "train_generator = TimeseriesGenerator(train_series, train_series,\n",
    "                                      length        = look_back, \n",
    "                                      sampling_rate = 1,\n",
    "                                      stride        = window_size,\n",
    "                                      batch_size    = batch_size)\n",
    "\n",
    "test_generator = TimeseriesGenerator(test_series, test_series,\n",
    "                                      length        = look_back, \n",
    "                                      sampling_rate = 1,\n",
    "                                      stride        = window_size,\n",
    "                                      batch_size    = batch_size)"
   ]
  },
  {
   "cell_type": "code",
   "execution_count": 14,
   "metadata": {},
   "outputs": [
    {
     "name": "stdout",
     "output_type": "stream",
     "text": [
      "Epoch 1/150\n",
      "918/918 [==============================] - 25s 26ms/step - loss: 0.1018 - val_loss: 0.0100\n",
      "Epoch 2/150\n",
      "918/918 [==============================] - 23s 25ms/step - loss: 0.0056 - val_loss: 0.0036\n",
      "Epoch 3/150\n",
      "918/918 [==============================] - 24s 26ms/step - loss: 0.0024 - val_loss: 0.0024\n",
      "Epoch 4/150\n",
      "918/918 [==============================] - 23s 25ms/step - loss: 0.0019 - val_loss: 0.0022\n",
      "Epoch 5/150\n",
      "918/918 [==============================] - 23s 25ms/step - loss: 0.0015 - val_loss: 0.0016\n",
      "Epoch 6/150\n",
      "918/918 [==============================] - 23s 25ms/step - loss: 0.0013 - val_loss: 0.0013\n",
      "Epoch 7/150\n",
      "918/918 [==============================] - 23s 25ms/step - loss: 0.0012 - val_loss: 0.0011\n",
      "Epoch 8/150\n",
      "918/918 [==============================] - 23s 25ms/step - loss: 0.0011 - val_loss: 0.0011\n",
      "Epoch 9/150\n",
      "918/918 [==============================] - 23s 25ms/step - loss: 9.7086e-04 - val_loss: 8.8412e-04\n",
      "Epoch 10/150\n",
      "918/918 [==============================] - 23s 25ms/step - loss: 9.9729e-04 - val_loss: 9.5761e-04\n",
      "Epoch 11/150\n",
      "918/918 [==============================] - 23s 25ms/step - loss: 9.2566e-04 - val_loss: 8.8151e-04\n",
      "Epoch 12/150\n",
      "918/918 [==============================] - 23s 25ms/step - loss: 9.9375e-04 - val_loss: 0.0013\n",
      "Epoch 13/150\n",
      "918/918 [==============================] - 23s 25ms/step - loss: 9.0873e-04 - val_loss: 7.9565e-04\n",
      "Epoch 14/150\n",
      "918/918 [==============================] - 23s 25ms/step - loss: 8.4683e-04 - val_loss: 8.3204e-04\n",
      "Epoch 15/150\n",
      "918/918 [==============================] - 23s 25ms/step - loss: 8.6475e-04 - val_loss: 7.2327e-04\n",
      "Epoch 16/150\n",
      "918/918 [==============================] - 23s 25ms/step - loss: 8.2325e-04 - val_loss: 7.1219e-04\n",
      "Epoch 17/150\n",
      "918/918 [==============================] - 24s 26ms/step - loss: 7.9832e-04 - val_loss: 7.3031e-04\n",
      "Epoch 18/150\n",
      "918/918 [==============================] - 23s 25ms/step - loss: 8.0190e-04 - val_loss: 8.1521e-04\n",
      "Epoch 19/150\n",
      "918/918 [==============================] - 23s 25ms/step - loss: 7.7151e-04 - val_loss: 7.0797e-04\n",
      "Epoch 20/150\n",
      "918/918 [==============================] - 23s 25ms/step - loss: 7.6787e-04 - val_loss: 0.0013\n",
      "Epoch 21/150\n",
      "918/918 [==============================] - 23s 25ms/step - loss: 7.7247e-04 - val_loss: 6.8200e-04\n",
      "Epoch 22/150\n",
      "918/918 [==============================] - 23s 25ms/step - loss: 7.7021e-04 - val_loss: 7.3999e-04\n",
      "Epoch 23/150\n",
      "918/918 [==============================] - 23s 25ms/step - loss: 7.4834e-04 - val_loss: 8.2656e-04\n",
      "Epoch 24/150\n",
      "918/918 [==============================] - 23s 25ms/step - loss: 7.6348e-04 - val_loss: 6.6864e-04\n",
      "Epoch 25/150\n",
      "918/918 [==============================] - 23s 25ms/step - loss: 7.4203e-04 - val_loss: 6.3861e-04\n",
      "Epoch 26/150\n",
      "918/918 [==============================] - 23s 25ms/step - loss: 7.4212e-04 - val_loss: 6.7778e-04\n",
      "Epoch 27/150\n",
      "918/918 [==============================] - 23s 25ms/step - loss: 7.3976e-04 - val_loss: 6.4662e-04\n",
      "Epoch 28/150\n",
      "918/918 [==============================] - 23s 25ms/step - loss: 7.4301e-04 - val_loss: 9.7894e-04\n",
      "Epoch 29/150\n",
      "918/918 [==============================] - 23s 25ms/step - loss: 7.2272e-04 - val_loss: 6.4650e-04\n",
      "Epoch 30/150\n",
      "918/918 [==============================] - 86s 94ms/step - loss: 7.5624e-04 - val_loss: 6.5274e-04\n",
      "Epoch 31/150\n",
      "918/918 [==============================] - 23s 25ms/step - loss: 7.2543e-04 - val_loss: 6.3198e-04\n",
      "Epoch 32/150\n",
      "918/918 [==============================] - 23s 25ms/step - loss: 7.2863e-04 - val_loss: 6.3392e-04\n",
      "Epoch 33/150\n",
      "918/918 [==============================] - 23s 25ms/step - loss: 7.2743e-04 - val_loss: 9.9469e-04\n",
      "Epoch 34/150\n",
      "918/918 [==============================] - 23s 25ms/step - loss: 7.2090e-04 - val_loss: 7.2742e-04\n",
      "Epoch 35/150\n",
      "918/918 [==============================] - 24s 26ms/step - loss: 7.3570e-04 - val_loss: 6.3324e-04\n",
      "Epoch 36/150\n",
      "918/918 [==============================] - 23s 25ms/step - loss: 7.2644e-04 - val_loss: 6.5716e-04\n",
      "Epoch 37/150\n",
      "918/918 [==============================] - 23s 25ms/step - loss: 7.1851e-04 - val_loss: 6.5915e-04\n",
      "Epoch 38/150\n",
      "918/918 [==============================] - 23s 25ms/step - loss: 7.0835e-04 - val_loss: 6.5352e-04\n",
      "Epoch 39/150\n",
      "918/918 [==============================] - 23s 25ms/step - loss: 7.2522e-04 - val_loss: 6.9194e-04\n",
      "Epoch 40/150\n",
      "918/918 [==============================] - 27s 29ms/step - loss: 7.1803e-04 - val_loss: 8.0060e-04\n",
      "Epoch 41/150\n",
      "918/918 [==============================] - 24s 26ms/step - loss: 7.1559e-04 - val_loss: 6.4094e-04\n"
     ]
    },
    {
     "data": {
      "text/plain": [
       "<keras.src.callbacks.History at 0x34c46bac0>"
      ]
     },
     "execution_count": 14,
     "metadata": {},
     "output_type": "execute_result"
    }
   ],
   "source": [
    "from keras.models import Sequential\n",
    "from keras.layers import LSTM, Dense, Dropout\n",
    "from keras.callbacks import ModelCheckpoint, EarlyStopping\n",
    "\n",
    "# Define model\n",
    "model = Sequential()\n",
    "model.add(LSTM(16, activation=\"relu\", input_shape=(look_back, n_features), return_sequences=True))\n",
    "#model.add(Dropout(0.2))\n",
    "model.add(LSTM(8, activation=\"relu\"))\n",
    "#model.add(Dropout(0.2))\n",
    "model.add(Dense(4, activation=\"relu\"))\n",
    "model.add(Dense(1))\n",
    "\n",
    "# Compile with optimized settings\n",
    "model.compile(optimizer=tf.keras.optimizers.legacy.Adam(), loss='mse')\n",
    "\n",
    "# Callbacks\n",
    "mc = ModelCheckpoint('best_model_friction.keras', monitor='val_loss', mode='min', save_best_only=True)\n",
    "es = EarlyStopping(monitor='val_loss', patience=10, restore_best_weights=True)\n",
    "callback_list = [mc, es]\n",
    "\n",
    "# Fit model with validation generator\n",
    "model.fit(train_generator, epochs=150, verbose=1, validation_data=test_generator, callbacks=callback_list)"
   ]
  },
  {
   "cell_type": "code",
   "execution_count": 15,
   "metadata": {},
   "outputs": [
    {
     "data": {
      "text/plain": [
       "<Axes: >"
      ]
     },
     "execution_count": 15,
     "metadata": {},
     "output_type": "execute_result"
    },
    {
     "data": {
      "image/png": "[encoded data removed]",
      "text/plain": [
       "<Figure size 640x480 with 1 Axes>"
      ]
     },
     "metadata": {},
     "output_type": "display_data"
    }
   ],
   "source": [
    "# the usual training metric visualization\n",
    "loss_df = pd.DataFrame(model.history.history)\n",
    "loss_df.plot()"
   ]
  },
  {
   "cell_type": "code",
   "execution_count": 16,
   "metadata": {},
   "outputs": [],
   "source": [
    "# reload the best version of the model\n",
    "from keras.models import load_model\n",
    "model = load_model('best_model_friction.keras')"
   ]
  },
  {
   "cell_type": "code",
   "execution_count": 17,
   "metadata": {},
   "outputs": [
    {
     "name": "stdout",
     "output_type": "stream",
     "text": [
      "228/228 [==============================] - 2s 6ms/step\n"
     ]
    }
   ],
   "source": [
    "test_predictions = model.predict(test_generator)"
   ]
  },
  {
   "cell_type": "code",
   "execution_count": 18,
   "metadata": {},
   "outputs": [
    {
     "name": "stdout",
     "output_type": "stream",
     "text": [
      "918/918 [==============================] - 5s 6ms/step - loss: 6.8775e-04\n",
      "Training loss: 0.0006877454579807818\n",
      "228/228 [==============================] - 1s 6ms/step - loss: 6.3198e-04\n",
      "Testing loss: 0.000631975126452744\n"
     ]
    }
   ],
   "source": [
    "# TensorFlow evaluation metrics\n",
    "result = model.evaluate(train_generator)\n",
    "print(f\"Training loss: {result}\")\n",
    "\n",
    "# test loss\n",
    "result = model.evaluate(test_generator)\n",
    "print(f\"Testing loss: {result}\")"
   ]
  },
  {
   "cell_type": "code",
   "execution_count": 19,
   "metadata": {},
   "outputs": [],
   "source": [
    "# MAPE score => less than 5% => very excellent result\n",
    "# MAPE score => less than 10% => excellent result\n",
    "# MAPE score => 10-20% => good result\n",
    "# MAPE score => 20-50% => okay / reasonable / decent result\n",
    "\n",
    "# negative MAPE score => the model constantly overestimates the values\n",
    "# MAPE score over 100% => the model constantly underestimates the values"
   ]
  },
  {
   "cell_type": "code",
   "execution_count": 20,
   "metadata": {},
   "outputs": [
    {
     "name": "stdout",
     "output_type": "stream",
     "text": [
      "MAPE (mean average precision error):\n",
      "8.75 %\n",
      "\n",
      "MAE\n",
      "0.01 units\n",
      "\n",
      "MSE\n",
      "0.0 units^2\n",
      "\n",
      "RMSE:\n",
      "0.03 units\n",
      "\n",
      "R-squared:\n",
      "0.99\n"
     ]
    }
   ],
   "source": [
    "# let's make a separate copy of the test values\n",
    "# so we can calculate some errors\n",
    "\n",
    "actual_y_test = np.concatenate([y for x, y in test_generator])\n",
    "errors = np.abs(actual_y_test - test_predictions)\n",
    "mape = np.mean(errors / actual_y_test) * 100\n",
    "\n",
    "# print out the MAPE-score\n",
    "print(\"MAPE (mean average precision error):\")\n",
    "print(f\"{round(mape, 2)} %\")\n",
    "\n",
    "# MAPE results sometimes produce weird results with synthetic data\n",
    "# since synthetic data is often extremely predictable\n",
    "# MAE - Mean average error\n",
    "print(\"\\nMAE\")\n",
    "print(round(metrics.mean_absolute_error(actual_y_test, test_predictions), 2), \"units\")\n",
    "\n",
    "# MSE - Mean square error\n",
    "print(\"\\nMSE\")\n",
    "print(round(metrics.mean_squared_error(actual_y_test, test_predictions), 2), \"units^2\")\n",
    "\n",
    "# RMSE - Root mean square error\n",
    "print('\\nRMSE:')\n",
    "print(round(np.sqrt(metrics.mean_squared_error(actual_y_test, test_predictions)), 2), \"units\")\n",
    "\n",
    "# R-squared. 0 = the model descibes the dataset poorly\n",
    "# 1 = model describes the dataset perfectly\n",
    "print('\\nR-squared:')\n",
    "print(round(metrics.r2_score(actual_y_test, test_predictions), 2))"
   ]
  },
  {
   "cell_type": "code",
   "execution_count": 26,
   "metadata": {},
   "outputs": [],
   "source": [
    "extrapolation = list()\n",
    "seed_batch    = y_test[:look_back].reshape((1,look_back, n_features))\n",
    "current_batch = seed_batch\n",
    "\n",
    "# extrapolate the next 180 values\n",
    "for i in range(12):\n",
    "    predicted_value = model.predict(current_batch, verbose=None)[0]\n",
    "    extrapolation.append(predicted_value) \n",
    "    current_batch = np.append(current_batch[:,1:,:],[[predicted_value]],axis=1)"
   ]
  },
  {
   "cell_type": "code",
   "execution_count": 27,
   "metadata": {},
   "outputs": [
    {
     "data": {
      "image/png": "[encoded data removed]",
      "text/plain": [
       "<Figure size 1500x500 with 1 Axes>"
      ]
     },
     "metadata": {},
     "output_type": "display_data"
    }
   ],
   "source": [
    "x1 = np.arange(0, len(y_train))\n",
    "x2 = np.arange(len(y_train), len(y_train) + len(y_test))\n",
    "x3 = np.arange(len(y_train) + look_back, len(y_train) + len(extrapolation) + look_back)\n",
    "\n",
    "fig, ax = plt.subplots(1, 1, figsize=(15, 5))\n",
    "ax.plot(x1, y_train, lw=2, label='train data')\n",
    "ax.plot(x2, y_test, lw=3, c='y', label='test data')\n",
    "ax.plot(x3, extrapolation, lw=1, c='r', label='predictions')\n",
    "ax.legend(loc=\"lower left\")\n",
    "\n",
    "zoom_start = len(y_train) + look_back - 100  # Start a bit before the extrapolation\n",
    "zoom_end = len(y_train) + len(extrapolation) + look_back + 100  # End a bit after\n",
    "ax.set_xlim(zoom_start, zoom_end)\n",
    "\n",
    "plt.show()"
   ]
  },
  {
   "cell_type": "code",
   "execution_count": null,
   "metadata": {},
   "outputs": [],
   "source": []
  }
 ],
 "metadata": {
  "kernelspec": {
   "display_name": ".venv",
   "language": "python",
   "name": "python3"
  },
  "language_info": {
   "codemirror_mode": {
    "name": "ipython",
    "version": 3
   },
   "file_extension": ".py",
   "mimetype": "text/x-python",
   "name": "python",
   "nbconvert_exporter": "python",
   "pygments_lexer": "ipython3",
   "version": "3.10.13"
  }
 },
 "nbformat": 4,
 "nbformat_minor": 2
}
