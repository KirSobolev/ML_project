{
 "cells": [
  {
   "cell_type": "code",
   "execution_count": 1,
   "metadata": {},
   "outputs": [],
   "source": [
    "import pandas as pd\n",
    "import seaborn as sns\n",
    "import matplotlib.pyplot as plt\n",
    "from matplotlib import pyplot as plt"
   ]
  },
  {
   "cell_type": "code",
   "execution_count": 3,
   "metadata": {},
   "outputs": [],
   "source": [
    "winter_data = pd.read_csv('Tie_9_Jyväskylä.csv')"
   ]
  },
  {
   "cell_type": "code",
   "execution_count": 4,
   "metadata": {},
   "outputs": [
    {
     "name": "stdout",
     "output_type": "stream",
     "text": [
      "<bound method DataFrame.info of                          ts  airTemp  roadTemp  friction3  humidity  dewpoint  \\\n",
      "0       2021-04-16 03:44:00     -1.1       0.1        NaN      77.0      -4.6   \n",
      "1       2021-04-16 03:54:00     -1.2       0.1        NaN      78.0      -4.6   \n",
      "2       2021-04-16 04:04:00     -1.2       0.0        NaN      78.0      -4.6   \n",
      "3       2021-04-16 04:14:00     -1.3      -0.3        NaN      78.0      -4.7   \n",
      "4       2021-04-16 04:24:00     -1.4      -0.4        NaN      78.0      -4.7   \n",
      "...                     ...      ...       ...        ...       ...       ...   \n",
      "181581  2024-10-15 10:48:49      5.3       4.9        NaN      88.0       3.5   \n",
      "181582  2024-10-15 10:58:49      5.5       4.9        NaN      88.0       3.6   \n",
      "181583  2024-10-15 11:08:49      5.5       4.9        NaN      87.0       3.5   \n",
      "181584  2024-10-15 11:13:49      5.6       4.9        NaN      86.0       3.4   \n",
      "181585  2024-10-15 11:28:49      5.9       4.9        NaN      86.0       3.6   \n",
      "\n",
      "        precipitation  \n",
      "0                   0  \n",
      "1                   0  \n",
      "2                   0  \n",
      "3                   0  \n",
      "4                   0  \n",
      "...               ...  \n",
      "181581              0  \n",
      "181582              0  \n",
      "181583              0  \n",
      "181584              0  \n",
      "181585              0  \n",
      "\n",
      "[181586 rows x 7 columns]>\n"
     ]
    }
   ],
   "source": [
    "print(winter_data.info)"
   ]
  }
 ],
 "metadata": {
  "kernelspec": {
   "display_name": "Python 3",
   "language": "python",
   "name": "python3"
  },
  "language_info": {
   "codemirror_mode": {
    "name": "ipython",
    "version": 3
   },
   "file_extension": ".py",
   "mimetype": "text/x-python",
   "name": "python",
   "nbconvert_exporter": "python",
   "pygments_lexer": "ipython3",
   "version": "3.10.11"
  }
 },
 "nbformat": 4,
 "nbformat_minor": 2
}
