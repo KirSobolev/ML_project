{
 "cells": [
  {
   "cell_type": "code",
   "execution_count": null,
   "metadata": {},
   "outputs": [
    {
     "name": "stderr",
     "output_type": "stream",
     "text": [
      "/Users/kirillsobolev/Documents/GitHub/ML_project/.venv/lib/python3.10/site-packages/tqdm/auto.py:21: TqdmWarning: IProgress not found. Please update jupyter and ipywidgets. See https://ipywidgets.readthedocs.io/en/stable/user_install.html\n",
      "  from .autonotebook import tqdm as notebook_tqdm\n"
     ]
    }
   ],
   "source": [
    "# Usual imports\n",
    "import pandas as pd\n",
    "import seaborn as sns\n",
    "import numpy as np\n",
    "\n",
    "import seaborn as sns\n",
    "import matplotlib.pyplot as plt\n",
    "import tensorflow as tf\n",
    "import phik\n",
    "\n",
    "%matplotlib inline\n",
    "\n",
    "# if your Jupyter kernel crashes during this code, use this setting\n",
    "import os\n",
    "os.environ['TF_ENABLE_ONEDNN_OPTS'] = '0'\n",
    "\n",
    "from sklearn import metrics\n",
    "from sklearn.metrics import classification_report\n",
    "from sklearn.metrics import confusion_matrix\n",
    "from sklearn.metrics import accuracy_score\n",
    "from sklearn.metrics import roc_auc_score\n",
    "from fancyimpute import KNN\n",
    "from tensorflow.keras.preprocessing.sequence import TimeseriesGenerator"
   ]
  },
  {
   "cell_type": "code",
   "execution_count": 2,
   "metadata": {},
   "outputs": [
    {
     "data": {
      "text/html": [
       "<div>\n",
       "<style scoped>\n",
       "    .dataframe tbody tr th:only-of-type {\n",
       "        vertical-align: middle;\n",
       "    }\n",
       "\n",
       "    .dataframe tbody tr th {\n",
       "        vertical-align: top;\n",
       "    }\n",
       "\n",
       "    .dataframe thead th {\n",
       "        text-align: right;\n",
       "    }\n",
       "</style>\n",
       "<table border=\"1\" class=\"dataframe\">\n",
       "  <thead>\n",
       "    <tr style=\"text-align: right;\">\n",
       "      <th></th>\n",
       "      <th>ts</th>\n",
       "      <th>airTemp</th>\n",
       "      <th>humidity</th>\n",
       "      <th>dewpoint</th>\n",
       "      <th>precipitation</th>\n",
       "      <th>Friction</th>\n",
       "      <th>Road_Surface_Temperature</th>\n",
       "      <th>Water_Film_Surface_mm</th>\n",
       "    </tr>\n",
       "  </thead>\n",
       "  <tbody>\n",
       "    <tr>\n",
       "      <th>0</th>\n",
       "      <td>2021-11-01 00:05:00</td>\n",
       "      <td>8.8</td>\n",
       "      <td>94.0</td>\n",
       "      <td>7.9</td>\n",
       "      <td>0</td>\n",
       "      <td>0.82</td>\n",
       "      <td>5.082435</td>\n",
       "      <td>0.0</td>\n",
       "    </tr>\n",
       "    <tr>\n",
       "      <th>1</th>\n",
       "      <td>2021-11-01 00:15:00</td>\n",
       "      <td>9.1</td>\n",
       "      <td>91.0</td>\n",
       "      <td>7.7</td>\n",
       "      <td>0</td>\n",
       "      <td>0.82</td>\n",
       "      <td>5.035252</td>\n",
       "      <td>0.0</td>\n",
       "    </tr>\n",
       "    <tr>\n",
       "      <th>2</th>\n",
       "      <td>2021-11-01 00:25:00</td>\n",
       "      <td>9.1</td>\n",
       "      <td>90.0</td>\n",
       "      <td>7.5</td>\n",
       "      <td>0</td>\n",
       "      <td>0.82</td>\n",
       "      <td>4.951386</td>\n",
       "      <td>0.0</td>\n",
       "    </tr>\n",
       "    <tr>\n",
       "      <th>3</th>\n",
       "      <td>2021-11-01 00:35:00</td>\n",
       "      <td>9.2</td>\n",
       "      <td>88.0</td>\n",
       "      <td>7.3</td>\n",
       "      <td>0</td>\n",
       "      <td>0.82</td>\n",
       "      <td>5.077870</td>\n",
       "      <td>0.0</td>\n",
       "    </tr>\n",
       "    <tr>\n",
       "      <th>4</th>\n",
       "      <td>2021-11-01 00:45:00</td>\n",
       "      <td>9.2</td>\n",
       "      <td>86.0</td>\n",
       "      <td>7.0</td>\n",
       "      <td>0</td>\n",
       "      <td>0.82</td>\n",
       "      <td>4.919721</td>\n",
       "      <td>0.0</td>\n",
       "    </tr>\n",
       "  </tbody>\n",
       "</table>\n",
       "</div>"
      ],
      "text/plain": [
       "                    ts  airTemp  humidity  dewpoint  precipitation  Friction  \\\n",
       "0  2021-11-01 00:05:00      8.8      94.0       7.9              0      0.82   \n",
       "1  2021-11-01 00:15:00      9.1      91.0       7.7              0      0.82   \n",
       "2  2021-11-01 00:25:00      9.1      90.0       7.5              0      0.82   \n",
       "3  2021-11-01 00:35:00      9.2      88.0       7.3              0      0.82   \n",
       "4  2021-11-01 00:45:00      9.2      86.0       7.0              0      0.82   \n",
       "\n",
       "   Road_Surface_Temperature  Water_Film_Surface_mm  \n",
       "0                  5.082435                    0.0  \n",
       "1                  5.035252                    0.0  \n",
       "2                  4.951386                    0.0  \n",
       "3                  5.077870                    0.0  \n",
       "4                  4.919721                    0.0  "
      ]
     },
     "execution_count": 2,
     "metadata": {},
     "output_type": "execute_result"
    }
   ],
   "source": [
    "# Read csv file into dataframe\n",
    "df = pd.read_csv(\"../ready_data/merged_starwis_and_weather.csv\")\n",
    "\n",
    "df.head()"
   ]
  },
  {
   "cell_type": "code",
   "execution_count": 3,
   "metadata": {},
   "outputs": [
    {
     "data": {
      "text/plain": [
       "ts                          0\n",
       "airTemp                     0\n",
       "humidity                    0\n",
       "dewpoint                    0\n",
       "precipitation               0\n",
       "Friction                    0\n",
       "Road_Surface_Temperature    0\n",
       "Water_Film_Surface_mm       0\n",
       "dtype: int64"
      ]
     },
     "execution_count": 3,
     "metadata": {},
     "output_type": "execute_result"
    }
   ],
   "source": [
    "# No missing values for the merged datasets \n",
    "df.isnull().sum()"
   ]
  },
  {
   "cell_type": "code",
   "execution_count": 4,
   "metadata": {},
   "outputs": [
    {
     "data": {
      "text/plain": [
       "0"
      ]
     },
     "execution_count": 4,
     "metadata": {},
     "output_type": "execute_result"
    }
   ],
   "source": [
    "df.duplicated().sum()"
   ]
  },
  {
   "cell_type": "code",
   "execution_count": 5,
   "metadata": {},
   "outputs": [],
   "source": [
    "df = df.drop_duplicates()"
   ]
  },
  {
   "cell_type": "code",
   "execution_count": 6,
   "metadata": {},
   "outputs": [
    {
     "data": {
      "text/html": [
       "<div>\n",
       "<style scoped>\n",
       "    .dataframe tbody tr th:only-of-type {\n",
       "        vertical-align: middle;\n",
       "    }\n",
       "\n",
       "    .dataframe tbody tr th {\n",
       "        vertical-align: top;\n",
       "    }\n",
       "\n",
       "    .dataframe thead th {\n",
       "        text-align: right;\n",
       "    }\n",
       "</style>\n",
       "<table border=\"1\" class=\"dataframe\">\n",
       "  <thead>\n",
       "    <tr style=\"text-align: right;\">\n",
       "      <th></th>\n",
       "      <th>ts</th>\n",
       "      <th>airTemp</th>\n",
       "      <th>humidity</th>\n",
       "      <th>dewpoint</th>\n",
       "      <th>precipitation</th>\n",
       "      <th>Friction</th>\n",
       "      <th>Road_Surface_Temperature</th>\n",
       "      <th>Water_Film_Surface_mm</th>\n",
       "    </tr>\n",
       "  </thead>\n",
       "  <tbody>\n",
       "    <tr>\n",
       "      <th>0</th>\n",
       "      <td>1.0</td>\n",
       "      <td>0.820084</td>\n",
       "      <td>0.926829</td>\n",
       "      <td>0.928251</td>\n",
       "      <td>0</td>\n",
       "      <td>1.0</td>\n",
       "      <td>0.612128</td>\n",
       "      <td>0.0</td>\n",
       "    </tr>\n",
       "    <tr>\n",
       "      <th>1</th>\n",
       "      <td>1.1</td>\n",
       "      <td>0.826360</td>\n",
       "      <td>0.890244</td>\n",
       "      <td>0.923767</td>\n",
       "      <td>0</td>\n",
       "      <td>1.0</td>\n",
       "      <td>0.611157</td>\n",
       "      <td>0.0</td>\n",
       "    </tr>\n",
       "    <tr>\n",
       "      <th>2</th>\n",
       "      <td>1.2</td>\n",
       "      <td>0.826360</td>\n",
       "      <td>0.878049</td>\n",
       "      <td>0.919283</td>\n",
       "      <td>0</td>\n",
       "      <td>1.0</td>\n",
       "      <td>0.609431</td>\n",
       "      <td>0.0</td>\n",
       "    </tr>\n",
       "    <tr>\n",
       "      <th>3</th>\n",
       "      <td>1.3</td>\n",
       "      <td>0.828452</td>\n",
       "      <td>0.853659</td>\n",
       "      <td>0.914798</td>\n",
       "      <td>0</td>\n",
       "      <td>1.0</td>\n",
       "      <td>0.612034</td>\n",
       "      <td>0.0</td>\n",
       "    </tr>\n",
       "    <tr>\n",
       "      <th>4</th>\n",
       "      <td>1.4</td>\n",
       "      <td>0.828452</td>\n",
       "      <td>0.829268</td>\n",
       "      <td>0.908072</td>\n",
       "      <td>0</td>\n",
       "      <td>1.0</td>\n",
       "      <td>0.608780</td>\n",
       "      <td>0.0</td>\n",
       "    </tr>\n",
       "    <tr>\n",
       "      <th>...</th>\n",
       "      <td>...</td>\n",
       "      <td>...</td>\n",
       "      <td>...</td>\n",
       "      <td>...</td>\n",
       "      <td>...</td>\n",
       "      <td>...</td>\n",
       "      <td>...</td>\n",
       "      <td>...</td>\n",
       "    </tr>\n",
       "    <tr>\n",
       "      <th>73546</th>\n",
       "      <td>7355.6</td>\n",
       "      <td>0.767782</td>\n",
       "      <td>0.621951</td>\n",
       "      <td>0.773543</td>\n",
       "      <td>0</td>\n",
       "      <td>1.0</td>\n",
       "      <td>0.633253</td>\n",
       "      <td>0.0</td>\n",
       "    </tr>\n",
       "    <tr>\n",
       "      <th>73547</th>\n",
       "      <td>7355.7</td>\n",
       "      <td>0.763598</td>\n",
       "      <td>0.634146</td>\n",
       "      <td>0.773543</td>\n",
       "      <td>0</td>\n",
       "      <td>1.0</td>\n",
       "      <td>0.630495</td>\n",
       "      <td>0.0</td>\n",
       "    </tr>\n",
       "    <tr>\n",
       "      <th>73548</th>\n",
       "      <td>7355.8</td>\n",
       "      <td>0.753138</td>\n",
       "      <td>0.670732</td>\n",
       "      <td>0.775785</td>\n",
       "      <td>0</td>\n",
       "      <td>1.0</td>\n",
       "      <td>0.625645</td>\n",
       "      <td>0.0</td>\n",
       "    </tr>\n",
       "    <tr>\n",
       "      <th>73549</th>\n",
       "      <td>7355.9</td>\n",
       "      <td>0.744770</td>\n",
       "      <td>0.695122</td>\n",
       "      <td>0.773543</td>\n",
       "      <td>0</td>\n",
       "      <td>1.0</td>\n",
       "      <td>0.621283</td>\n",
       "      <td>0.0</td>\n",
       "    </tr>\n",
       "    <tr>\n",
       "      <th>73550</th>\n",
       "      <td>7356.0</td>\n",
       "      <td>0.738494</td>\n",
       "      <td>0.695122</td>\n",
       "      <td>0.769058</td>\n",
       "      <td>0</td>\n",
       "      <td>1.0</td>\n",
       "      <td>0.619247</td>\n",
       "      <td>0.0</td>\n",
       "    </tr>\n",
       "  </tbody>\n",
       "</table>\n",
       "<p>73551 rows × 8 columns</p>\n",
       "</div>"
      ],
      "text/plain": [
       "           ts   airTemp  humidity  dewpoint  precipitation  Friction  \\\n",
       "0         1.0  0.820084  0.926829  0.928251              0       1.0   \n",
       "1         1.1  0.826360  0.890244  0.923767              0       1.0   \n",
       "2         1.2  0.826360  0.878049  0.919283              0       1.0   \n",
       "3         1.3  0.828452  0.853659  0.914798              0       1.0   \n",
       "4         1.4  0.828452  0.829268  0.908072              0       1.0   \n",
       "...       ...       ...       ...       ...            ...       ...   \n",
       "73546  7355.6  0.767782  0.621951  0.773543              0       1.0   \n",
       "73547  7355.7  0.763598  0.634146  0.773543              0       1.0   \n",
       "73548  7355.8  0.753138  0.670732  0.775785              0       1.0   \n",
       "73549  7355.9  0.744770  0.695122  0.773543              0       1.0   \n",
       "73550  7356.0  0.738494  0.695122  0.769058              0       1.0   \n",
       "\n",
       "       Road_Surface_Temperature  Water_Film_Surface_mm  \n",
       "0                      0.612128                    0.0  \n",
       "1                      0.611157                    0.0  \n",
       "2                      0.609431                    0.0  \n",
       "3                      0.612034                    0.0  \n",
       "4                      0.608780                    0.0  \n",
       "...                         ...                    ...  \n",
       "73546                  0.633253                    0.0  \n",
       "73547                  0.630495                    0.0  \n",
       "73548                  0.625645                    0.0  \n",
       "73549                  0.621283                    0.0  \n",
       "73550                  0.619247                    0.0  \n",
       "\n",
       "[73551 rows x 8 columns]"
      ]
     },
     "execution_count": 6,
     "metadata": {},
     "output_type": "execute_result"
    }
   ],
   "source": [
    "from sklearn.preprocessing import MinMaxScaler\n",
    "scaler = MinMaxScaler()\n",
    "\n",
    "# cale only relevant variables\n",
    "num_cols = ['airTemp', 'humidity', 'dewpoint', 'Friction',\n",
    "       'Road_Surface_Temperature', 'Water_Film_Surface_mm']\n",
    "df[num_cols] = scaler.fit_transform(df[num_cols])\n",
    "df[\"ts\"] = df.index * 0.1 + 1\n",
    "df"
   ]
  },
  {
   "cell_type": "code",
   "execution_count": 7,
   "metadata": {},
   "outputs": [
    {
     "data": {
      "text/plain": [
       "Index(['ts', 'airTemp', 'humidity', 'dewpoint', 'precipitation', 'Friction',\n",
       "       'Road_Surface_Temperature', 'Water_Film_Surface_mm'],\n",
       "      dtype='object')"
      ]
     },
     "execution_count": 7,
     "metadata": {},
     "output_type": "execute_result"
    }
   ],
   "source": [
    "df.columns"
   ]
  },
  {
   "cell_type": "code",
   "execution_count": 8,
   "metadata": {},
   "outputs": [],
   "source": [
    "value_column = [\"Friction\"]\n",
    "features = ['ts', 'airTemp', 'humidity', 'dewpoint', 'precipitation',\n",
    "       'Road_Surface_Temperature', 'Water_Film_Surface_mm']\n"
   ]
  },
  {
   "cell_type": "code",
   "execution_count": 9,
   "metadata": {},
   "outputs": [],
   "source": [
    "cutoff = int(len(df) * 0.8)\n",
    "\n",
    "# train data\n",
    "X_train = df[features].iloc[0:cutoff]\n",
    "y_train = df[value_column].iloc[0:cutoff]\n",
    "\n",
    "# test data \n",
    "X_test = df[features].iloc[cutoff:]\n",
    "y_test = df[value_column].iloc[cutoff:]\n",
    "\n",
    "# convert everything into NumPy -array format\n",
    "X_train = np.array(X_train)\n",
    "y_train = np.array(y_train)\n",
    "X_test = np.array(X_test)\n",
    "y_test = np.array(y_test)\n",
    "\n",
    "# number of variables is just 1 (the scaled passengers value)\n",
    "n_features = len(features)\n",
    "\n",
    "# use reshape tools to get the data ready for future use\n",
    "train_data = X_train.reshape((len(X_train), n_features))\n",
    "train_series = y_train.reshape((len(y_train), 1))\n",
    "test_data = X_test.reshape((len(X_test), n_features))\n",
    "test_series  = y_test.reshape((len(y_test), 1))"
   ]
  },
  {
   "cell_type": "code",
   "execution_count": 10,
   "metadata": {},
   "outputs": [
    {
     "name": "stdout",
     "output_type": "stream",
     "text": [
      "(58840, 7) (58840, 1)\n",
      "(14711, 7) (14711, 1)\n"
     ]
    }
   ],
   "source": [
    "print(X_train.shape, y_train.shape)\n",
    "print(X_test.shape, y_test.shape)"
   ]
  },
  {
   "cell_type": "code",
   "execution_count": 11,
   "metadata": {},
   "outputs": [
    {
     "name": "stdout",
     "output_type": "stream",
     "text": [
      "(14711, 1)\n"
     ]
    }
   ],
   "source": [
    "print(y_test.shape)"
   ]
  },
  {
   "cell_type": "code",
   "execution_count": 12,
   "metadata": {},
   "outputs": [],
   "source": [
    "# the variable that determines how many points \n",
    "# back into the past the model attempts to learn\n",
    "look_back  = 144\n",
    "\n",
    "\n",
    "batch_size = 64\n",
    "\n",
    "# using 1 => using time steps\n",
    "# anything over 1 => uses windowing\n",
    "window_size = 12\n",
    "\n",
    "# create a separate generator training and testing data\n",
    "train_generator = TimeseriesGenerator(X_train, y_train,\n",
    "                                      length        = look_back, \n",
    "                                      sampling_rate = 1,\n",
    "                                      stride        = window_size,\n",
    "                                      batch_size    = batch_size)\n",
    "\n",
    "test_generator = TimeseriesGenerator(X_test, y_test,\n",
    "                                      length        = look_back, \n",
    "                                      sampling_rate = 1,\n",
    "                                      stride        = window_size,\n",
    "                                      batch_size    = batch_size)"
   ]
  },
  {
   "cell_type": "code",
   "execution_count": 13,
   "metadata": {},
   "outputs": [
    {
     "name": "stdout",
     "output_type": "stream",
     "text": [
      "Epoch 1/150\n",
      "77/77 [==============================] - 6s 74ms/step - loss: nan - val_loss: nan\n",
      "Epoch 2/150\n",
      "77/77 [==============================] - 6s 72ms/step - loss: nan - val_loss: nan\n",
      "Epoch 3/150\n",
      "77/77 [==============================] - 6s 72ms/step - loss: nan - val_loss: nan\n",
      "Epoch 4/150\n",
      "77/77 [==============================] - 6s 73ms/step - loss: nan - val_loss: nan\n",
      "Epoch 5/150\n",
      "77/77 [==============================] - 6s 73ms/step - loss: nan - val_loss: nan\n",
      "Epoch 6/150\n",
      "77/77 [==============================] - 6s 74ms/step - loss: nan - val_loss: nan\n",
      "Epoch 7/150\n",
      "77/77 [==============================] - 6s 73ms/step - loss: nan - val_loss: nan\n",
      "Epoch 8/150\n",
      "77/77 [==============================] - 6s 73ms/step - loss: nan - val_loss: nan\n",
      "Epoch 9/150\n",
      "77/77 [==============================] - 6s 73ms/step - loss: nan - val_loss: nan\n",
      "Epoch 10/150\n",
      "77/77 [==============================] - 6s 74ms/step - loss: nan - val_loss: nan\n"
     ]
    },
    {
     "data": {
      "text/plain": [
       "<keras.src.callbacks.History at 0x34da69ba0>"
      ]
     },
     "execution_count": 13,
     "metadata": {},
     "output_type": "execute_result"
    }
   ],
   "source": [
    "from keras.models import Sequential\n",
    "from keras.layers import LSTM, Dense, Dropout\n",
    "from keras.callbacks import ModelCheckpoint, EarlyStopping\n",
    "\n",
    "# Define model\n",
    "model = Sequential()\n",
    "model.add(LSTM(64, activation=\"relu\", input_shape=(look_back, n_features), return_sequences=True))\n",
    "model.add(LSTM(32, activation=\"relu\"))\n",
    "model.add(Dense(16, activation=\"relu\"))\n",
    "model.add(Dense(1))\n",
    "\n",
    "# Compile with optimized settings\n",
    "model.compile(optimizer=tf.keras.optimizers.legacy.Adam(), loss='mse')\n",
    "\n",
    "# Callbacks\n",
    "mc = ModelCheckpoint('best_model_friction.keras', monitor='val_loss', mode='min', save_best_only=True)\n",
    "es = EarlyStopping(monitor='val_loss', patience=10, restore_best_weights=True)\n",
    "callback_list = [mc, es]\n",
    "\n",
    "# Fit model with validation generator\n",
    "model.fit(train_generator, epochs=150, verbose=1, validation_data=test_generator, callbacks=callback_list)"
   ]
  },
  {
   "cell_type": "code",
   "execution_count": 14,
   "metadata": {},
   "outputs": [
    {
     "data": {
      "text/plain": [
       "<Axes: >"
      ]
     },
     "execution_count": 14,
     "metadata": {},
     "output_type": "execute_result"
    },
    {
     "data": {
      "image/png": "[encoded data removed]",
      "text/plain": [
       "<Figure size 640x480 with 1 Axes>"
      ]
     },
     "metadata": {},
     "output_type": "display_data"
    }
   ],
   "source": [
    "# the usual training metric visualization\n",
    "loss_df = pd.DataFrame(model.history.history)\n",
    "loss_df.plot()"
   ]
  },
  {
   "cell_type": "code",
   "execution_count": 15,
   "metadata": {},
   "outputs": [],
   "source": [
    "# reload the best version of the model\n",
    "from keras.models import load_model\n",
    "model = load_model('best_model_friction.keras')"
   ]
  },
  {
   "cell_type": "code",
   "execution_count": 16,
   "metadata": {},
   "outputs": [
    {
     "name": "stdout",
     "output_type": "stream",
     "text": [
      "19/19 [==============================] - 0s 9ms/step\n"
     ]
    }
   ],
   "source": [
    "test_predictions = model.predict(test_generator)"
   ]
  },
  {
   "cell_type": "code",
   "execution_count": 17,
   "metadata": {},
   "outputs": [
    {
     "name": "stdout",
     "output_type": "stream",
     "text": [
      "77/77 [==============================] - 1s 9ms/step - loss: inf\n",
      "Training loss: inf\n",
      "19/19 [==============================] - 0s 9ms/step - loss: 0.1437\n",
      "Testing loss: 0.1436954289674759\n"
     ]
    }
   ],
   "source": [
    "# TensorFlow evaluation metrics\n",
    "result = model.evaluate(train_generator)\n",
    "print(f\"Training loss: {result}\")\n",
    "\n",
    "# test loss\n",
    "result = model.evaluate(test_generator)\n",
    "print(f\"Testing loss: {result}\")"
   ]
  },
  {
   "cell_type": "code",
   "execution_count": 18,
   "metadata": {},
   "outputs": [],
   "source": [
    "# MAPE score => less than 5% => very excellent result\n",
    "# MAPE score => less than 10% => excellent result\n",
    "# MAPE score => 10-20% => good result\n",
    "# MAPE score => 20-50% => okay / reasonable / decent result\n",
    "\n",
    "# negative MAPE score => the model constantly overestimates the values\n",
    "# MAPE score over 100% => the model constantly underestimates the values"
   ]
  },
  {
   "cell_type": "code",
   "execution_count": 19,
   "metadata": {},
   "outputs": [
    {
     "name": "stdout",
     "output_type": "stream",
     "text": [
      "MAPE (mean average precision error):\n",
      "263.66 %\n",
      "\n",
      "MAE\n",
      "0.33 units\n",
      "\n",
      "MSE\n",
      "0.14 units^2\n",
      "\n",
      "RMSE:\n",
      "0.38 units\n",
      "\n",
      "R-squared:\n",
      "-1.88\n"
     ]
    }
   ],
   "source": [
    "# let's make a separate copy of the test values\n",
    "# so we can calculate some errors\n",
    "\n",
    "actual_y_test = np.concatenate([y for x, y in test_generator])\n",
    "errors = np.abs(actual_y_test - test_predictions)\n",
    "mape = np.mean(errors / actual_y_test) * 100\n",
    "\n",
    "# print out the MAPE-score\n",
    "print(\"MAPE (mean average precision error):\")\n",
    "print(f\"{round(mape, 2)} %\")\n",
    "\n",
    "# MAPE results sometimes produce weird results with synthetic data\n",
    "# since synthetic data is often extremely predictable\n",
    "# MAE - Mean average error\n",
    "print(\"\\nMAE\")\n",
    "print(round(metrics.mean_absolute_error(actual_y_test, test_predictions), 2), \"units\")\n",
    "\n",
    "# MSE - Mean square error\n",
    "print(\"\\nMSE\")\n",
    "print(round(metrics.mean_squared_error(actual_y_test, test_predictions), 2), \"units^2\")\n",
    "\n",
    "# RMSE - Root mean square error\n",
    "print('\\nRMSE:')\n",
    "print(round(np.sqrt(metrics.mean_squared_error(actual_y_test, test_predictions)), 2), \"units\")\n",
    "\n",
    "# R-squared. 0 = the model descibes the dataset poorly\n",
    "# 1 = model describes the dataset perfectly\n",
    "print('\\nR-squared:')\n",
    "print(round(metrics.r2_score(actual_y_test, test_predictions), 2))"
   ]
  },
  {
   "cell_type": "code",
   "execution_count": 20,
   "metadata": {},
   "outputs": [
    {
     "name": "stdout",
     "output_type": "stream",
     "text": [
      "(14711, 7)\n"
     ]
    }
   ],
   "source": [
    "print(X_test.shape)  # Should be (samples, look_back, n_features)"
   ]
  },
  {
   "cell_type": "code",
   "execution_count": 21,
   "metadata": {},
   "outputs": [
    {
     "ename": "ValueError",
     "evalue": "in user code:\n\n    File \"/Users/kirillsobolev/Documents/GitHub/ML_project/.venv/lib/python3.10/site-packages/keras/src/engine/training.py\", line 2440, in predict_function  *\n        return step_function(self, iterator)\n    File \"/Users/kirillsobolev/Documents/GitHub/ML_project/.venv/lib/python3.10/site-packages/keras/src/engine/training.py\", line 2425, in step_function  **\n        outputs = model.distribute_strategy.run(run_step, args=(data,))\n    File \"/Users/kirillsobolev/Documents/GitHub/ML_project/.venv/lib/python3.10/site-packages/keras/src/engine/training.py\", line 2413, in run_step  **\n        outputs = model.predict_step(data)\n    File \"/Users/kirillsobolev/Documents/GitHub/ML_project/.venv/lib/python3.10/site-packages/keras/src/engine/training.py\", line 2381, in predict_step\n        return self(x, training=False)\n    File \"/Users/kirillsobolev/Documents/GitHub/ML_project/.venv/lib/python3.10/site-packages/keras/src/utils/traceback_utils.py\", line 70, in error_handler\n        raise e.with_traceback(filtered_tb) from None\n    File \"/Users/kirillsobolev/Documents/GitHub/ML_project/.venv/lib/python3.10/site-packages/keras/src/engine/input_spec.py\", line 298, in assert_input_compatibility\n        raise ValueError(\n\n    ValueError: Input 0 of layer \"sequential\" is incompatible with the layer: expected shape=(None, 36, 7), found shape=(None, 144, 7)\n",
     "output_type": "error",
     "traceback": [
      "\u001b[0;31m---------------------------------------------------------------------------\u001b[0m",
      "\u001b[0;31mValueError\u001b[0m                                Traceback (most recent call last)",
      "Cell \u001b[0;32mIn[21], line 10\u001b[0m\n\u001b[1;32m      7\u001b[0m \u001b[38;5;66;03m# Extrapolate the next 180 values\u001b[39;00m\n\u001b[1;32m      8\u001b[0m \u001b[38;5;28;01mfor\u001b[39;00m _ \u001b[38;5;129;01min\u001b[39;00m \u001b[38;5;28mrange\u001b[39m(\u001b[38;5;241m180\u001b[39m):\n\u001b[1;32m      9\u001b[0m     \u001b[38;5;66;03m# Predict the next value\u001b[39;00m\n\u001b[0;32m---> 10\u001b[0m     next_value \u001b[38;5;241m=\u001b[39m \u001b[43mmodel\u001b[49m\u001b[38;5;241;43m.\u001b[39;49m\u001b[43mpredict\u001b[49m\u001b[43m(\u001b[49m\u001b[43mcurrent_batch\u001b[49m\u001b[43m)\u001b[49m[\u001b[38;5;241m0\u001b[39m]\n\u001b[1;32m     12\u001b[0m     \u001b[38;5;66;03m# Append prediction to extrapolation list\u001b[39;00m\n\u001b[1;32m     13\u001b[0m     extrapolation\u001b[38;5;241m.\u001b[39mappend(next_value)\n",
      "File \u001b[0;32m~/Documents/GitHub/ML_project/.venv/lib/python3.10/site-packages/keras/src/utils/traceback_utils.py:70\u001b[0m, in \u001b[0;36mfilter_traceback.<locals>.error_handler\u001b[0;34m(*args, **kwargs)\u001b[0m\n\u001b[1;32m     67\u001b[0m     filtered_tb \u001b[38;5;241m=\u001b[39m _process_traceback_frames(e\u001b[38;5;241m.\u001b[39m__traceback__)\n\u001b[1;32m     68\u001b[0m     \u001b[38;5;66;03m# To get the full stack trace, call:\u001b[39;00m\n\u001b[1;32m     69\u001b[0m     \u001b[38;5;66;03m# `tf.debugging.disable_traceback_filtering()`\u001b[39;00m\n\u001b[0;32m---> 70\u001b[0m     \u001b[38;5;28;01mraise\u001b[39;00m e\u001b[38;5;241m.\u001b[39mwith_traceback(filtered_tb) \u001b[38;5;28;01mfrom\u001b[39;00m \u001b[38;5;28;01mNone\u001b[39;00m\n\u001b[1;32m     71\u001b[0m \u001b[38;5;28;01mfinally\u001b[39;00m:\n\u001b[1;32m     72\u001b[0m     \u001b[38;5;28;01mdel\u001b[39;00m filtered_tb\n",
      "File \u001b[0;32m/var/folders/19/0ldx1bc54jx5tvjkrsbcv4040000gn/T/__autograph_generated_fileofu77flt.py:15\u001b[0m, in \u001b[0;36mouter_factory.<locals>.inner_factory.<locals>.tf__predict_function\u001b[0;34m(iterator)\u001b[0m\n\u001b[1;32m     13\u001b[0m \u001b[38;5;28;01mtry\u001b[39;00m:\n\u001b[1;32m     14\u001b[0m     do_return \u001b[38;5;241m=\u001b[39m \u001b[38;5;28;01mTrue\u001b[39;00m\n\u001b[0;32m---> 15\u001b[0m     retval_ \u001b[38;5;241m=\u001b[39m ag__\u001b[38;5;241m.\u001b[39mconverted_call(ag__\u001b[38;5;241m.\u001b[39mld(step_function), (ag__\u001b[38;5;241m.\u001b[39mld(\u001b[38;5;28mself\u001b[39m), ag__\u001b[38;5;241m.\u001b[39mld(iterator)), \u001b[38;5;28;01mNone\u001b[39;00m, fscope)\n\u001b[1;32m     16\u001b[0m \u001b[38;5;28;01mexcept\u001b[39;00m:\n\u001b[1;32m     17\u001b[0m     do_return \u001b[38;5;241m=\u001b[39m \u001b[38;5;28;01mFalse\u001b[39;00m\n",
      "\u001b[0;31mValueError\u001b[0m: in user code:\n\n    File \"/Users/kirillsobolev/Documents/GitHub/ML_project/.venv/lib/python3.10/site-packages/keras/src/engine/training.py\", line 2440, in predict_function  *\n        return step_function(self, iterator)\n    File \"/Users/kirillsobolev/Documents/GitHub/ML_project/.venv/lib/python3.10/site-packages/keras/src/engine/training.py\", line 2425, in step_function  **\n        outputs = model.distribute_strategy.run(run_step, args=(data,))\n    File \"/Users/kirillsobolev/Documents/GitHub/ML_project/.venv/lib/python3.10/site-packages/keras/src/engine/training.py\", line 2413, in run_step  **\n        outputs = model.predict_step(data)\n    File \"/Users/kirillsobolev/Documents/GitHub/ML_project/.venv/lib/python3.10/site-packages/keras/src/engine/training.py\", line 2381, in predict_step\n        return self(x, training=False)\n    File \"/Users/kirillsobolev/Documents/GitHub/ML_project/.venv/lib/python3.10/site-packages/keras/src/utils/traceback_utils.py\", line 70, in error_handler\n        raise e.with_traceback(filtered_tb) from None\n    File \"/Users/kirillsobolev/Documents/GitHub/ML_project/.venv/lib/python3.10/site-packages/keras/src/engine/input_spec.py\", line 298, in assert_input_compatibility\n        raise ValueError(\n\n    ValueError: Input 0 of layer \"sequential\" is incompatible with the layer: expected shape=(None, 36, 7), found shape=(None, 144, 7)\n"
     ]
    }
   ],
   "source": [
    "extrapolation = []\n",
    "\n",
    "# Seed batch from feature set\n",
    "seed_batch = X_test[:look_back].reshape((1, look_back, n_features))\n",
    "current_batch = seed_batch\n",
    "\n",
    "# Extrapolate the next 180 values\n",
    "for _ in range(180):\n",
    "    # Predict the next value\n",
    "    next_value = model.predict(current_batch)[0]\n",
    "    \n",
    "    # Append prediction to extrapolation list\n",
    "    extrapolation.append(next_value)\n",
    "    \n",
    "    # Update the current batch (sliding window)\n",
    "    current_batch = np.append(current_batch[:, 1:, :], [[next_value]], axis=1)\n",
    "\n",
    "# Convert extrapolation to desired format if needed"
   ]
  },
  {
   "cell_type": "code",
   "execution_count": null,
   "metadata": {},
   "outputs": [
    {
     "ename": "ValueError",
     "evalue": "all the input array dimensions except for the concatenation axis must match exactly, but along dimension 2, the array at index 0 has size 7 and the array at index 1 has size 1",
     "output_type": "error",
     "traceback": [
      "\u001b[0;31m---------------------------------------------------------------------------\u001b[0m",
      "\u001b[0;31mValueError\u001b[0m                                Traceback (most recent call last)",
      "Cell \u001b[0;32mIn[14], line 9\u001b[0m\n\u001b[1;32m      7\u001b[0m predicted_value \u001b[38;5;241m=\u001b[39m model\u001b[38;5;241m.\u001b[39mpredict(current_batch, verbose\u001b[38;5;241m=\u001b[39m\u001b[38;5;28;01mNone\u001b[39;00m)[\u001b[38;5;241m0\u001b[39m]\n\u001b[1;32m      8\u001b[0m extrapolation\u001b[38;5;241m.\u001b[39mappend(predicted_value) \n\u001b[0;32m----> 9\u001b[0m current_batch \u001b[38;5;241m=\u001b[39m \u001b[43mnp\u001b[49m\u001b[38;5;241;43m.\u001b[39;49m\u001b[43mappend\u001b[49m\u001b[43m(\u001b[49m\u001b[43mcurrent_batch\u001b[49m\u001b[43m[\u001b[49m\u001b[43m:\u001b[49m\u001b[43m,\u001b[49m\u001b[38;5;241;43m1\u001b[39;49m\u001b[43m:\u001b[49m\u001b[43m,\u001b[49m\u001b[43m:\u001b[49m\u001b[43m]\u001b[49m\u001b[43m,\u001b[49m\u001b[43m[\u001b[49m\u001b[43m[\u001b[49m\u001b[43mpredicted_value\u001b[49m\u001b[43m]\u001b[49m\u001b[43m]\u001b[49m\u001b[43m,\u001b[49m\u001b[43maxis\u001b[49m\u001b[38;5;241;43m=\u001b[39;49m\u001b[38;5;241;43m1\u001b[39;49m\u001b[43m)\u001b[49m\n",
      "File \u001b[0;32m~/Documents/GitHub/ML_project/.venv/lib/python3.10/site-packages/numpy/lib/function_base.py:5618\u001b[0m, in \u001b[0;36mappend\u001b[0;34m(arr, values, axis)\u001b[0m\n\u001b[1;32m   5616\u001b[0m     values \u001b[38;5;241m=\u001b[39m ravel(values)\n\u001b[1;32m   5617\u001b[0m     axis \u001b[38;5;241m=\u001b[39m arr\u001b[38;5;241m.\u001b[39mndim\u001b[38;5;241m-\u001b[39m\u001b[38;5;241m1\u001b[39m\n\u001b[0;32m-> 5618\u001b[0m \u001b[38;5;28;01mreturn\u001b[39;00m \u001b[43mconcatenate\u001b[49m\u001b[43m(\u001b[49m\u001b[43m(\u001b[49m\u001b[43marr\u001b[49m\u001b[43m,\u001b[49m\u001b[43m \u001b[49m\u001b[43mvalues\u001b[49m\u001b[43m)\u001b[49m\u001b[43m,\u001b[49m\u001b[43m \u001b[49m\u001b[43maxis\u001b[49m\u001b[38;5;241;43m=\u001b[39;49m\u001b[43maxis\u001b[49m\u001b[43m)\u001b[49m\n",
      "\u001b[0;31mValueError\u001b[0m: all the input array dimensions except for the concatenation axis must match exactly, but along dimension 2, the array at index 0 has size 7 and the array at index 1 has size 1"
     ]
    }
   ],
   "source": [
    "extrapolation = list()\n",
    "seed_batch    = X_test[:look_back].reshape((1, look_back, n_features))\n",
    "current_batch = seed_batch\n",
    "\n",
    "# extrapolate the next 180 values\n",
    "for i in range(12):\n",
    "    predicted_value = model.predict(current_batch, verbose=None)[0]\n",
    "    extrapolation.append(predicted_value) \n",
    "    current_batch = np.append(current_batch[:,1:,:],[[predicted_value]],axis=1)"
   ]
  },
  {
   "cell_type": "code",
   "execution_count": null,
   "metadata": {},
   "outputs": [
    {
     "data": {
      "image/png": "[encoded data removed]",
      "text/plain": [
       "<Figure size 1500x500 with 1 Axes>"
      ]
     },
     "metadata": {},
     "output_type": "display_data"
    }
   ],
   "source": [
    "x1 = np.arange(0, len(y_train))\n",
    "x2 = np.arange(len(y_train), len(y_train) + len(y_test))\n",
    "x3 = np.arange(len(y_train) + look_back, len(y_train) + len(extrapolation) + look_back)\n",
    "\n",
    "fig, ax = plt.subplots(1, 1, figsize=(15, 5))\n",
    "ax.plot(x1, y_train, lw=2, label='train data')\n",
    "ax.plot(x2, y_test, lw=3, c='y', label='test data')\n",
    "ax.plot(x3, extrapolation, lw=1, c='r', label='predictions')\n",
    "ax.legend(loc=\"lower left\")\n",
    "\n",
    "zoom_start = len(y_train) + look_back - 100  # Start a bit before the extrapolation\n",
    "zoom_end = len(y_train) + len(extrapolation) + look_back + 100  # End a bit after\n",
    "ax.set_xlim(zoom_start, zoom_end)\n",
    "\n",
    "plt.show()"
   ]
  },
  {
   "cell_type": "code",
   "execution_count": null,
   "metadata": {},
   "outputs": [],
   "source": []
  }
 ],
 "metadata": {
  "kernelspec": {
   "display_name": ".venv",
   "language": "python",
   "name": "python3"
  },
  "language_info": {
   "codemirror_mode": {
    "name": "ipython",
    "version": 3
   },
   "file_extension": ".py",
   "mimetype": "text/x-python",
   "name": "python",
   "nbconvert_exporter": "python",
   "pygments_lexer": "ipython3",
   "version": "3.10.13"
  }
 },
 "nbformat": 4,
 "nbformat_minor": 2
}
