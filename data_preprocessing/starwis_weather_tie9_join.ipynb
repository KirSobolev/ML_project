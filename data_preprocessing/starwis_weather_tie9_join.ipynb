{
 "cells": [
  {
   "cell_type": "code",
   "execution_count": 1,
   "metadata": {},
   "outputs": [],
   "source": [
    "import pandas as pd\n",
    "import numpy as np\n",
    "import matplotlib.pyplot as plt\n"
   ]
  },
  {
   "cell_type": "code",
   "execution_count": 2,
   "metadata": {},
   "outputs": [],
   "source": [
    "starwis = pd.read_csv(\"../original_data/starwis_satamakatu.csv\")\n",
    "weather = pd.read_csv(\"../original_data/Tie_9_Jyväskylä.csv\")"
   ]
  },
  {
   "cell_type": "code",
   "execution_count": 3,
   "metadata": {},
   "outputs": [
    {
     "name": "stdout",
     "output_type": "stream",
     "text": [
      "Index(['ts', 'Friction', 'Road_Surface_Temperature', 'Water_Film_Surface_mm'], dtype='object')\n"
     ]
    }
   ],
   "source": [
    "print(starwis.columns)"
   ]
  },
  {
   "cell_type": "code",
   "execution_count": 4,
   "metadata": {},
   "outputs": [
    {
     "name": "stdout",
     "output_type": "stream",
     "text": [
      "Index(['ts', 'airTemp', 'roadTemp', 'friction3', 'humidity', 'dewpoint',\n",
      "       'precipitation'],\n",
      "      dtype='object')\n"
     ]
    }
   ],
   "source": [
    "print(weather.columns)"
   ]
  },
  {
   "cell_type": "markdown",
   "metadata": {},
   "source": [
    "Combine starwis and weather, since they share same time period with sameish 10minute step"
   ]
  },
  {
   "cell_type": "code",
   "execution_count": 5,
   "metadata": {},
   "outputs": [],
   "source": [
    "# drop from weather station dataset:\n",
    "# friction3 - there are 100k missing values\n",
    "# roadTemp - we already have it in more accurate form in starwis dataset  \n",
    "\n",
    "weather.drop([\"friction3\", \"roadTemp\"], axis=1, inplace=True)\n"
   ]
  },
  {
   "cell_type": "code",
   "execution_count": 6,
   "metadata": {},
   "outputs": [],
   "source": [
    "# Convert the 'timestamp' columns in both dataframes to datetime format\n",
    "weather['ts'] = pd.to_datetime(weather['ts'])\n",
    "starwis['ts'] = pd.to_datetime(starwis['ts'], format='mixed')\n",
    "\n",
    "# Sort the dataframes by 'timestamp' before using merge_asof\n",
    "weather = weather.sort_values('ts')\n",
    "starwis = starwis.sort_values('ts')"
   ]
  },
  {
   "cell_type": "code",
   "execution_count": 7,
   "metadata": {},
   "outputs": [],
   "source": [
    "# Perform an asof merge, joining on the nearest timestamp within a tolerance\n",
    "# Set the tolerance to a suitable time difference (e.g., 5 minutes)\n",
    "# (if time difference is more than 5 minutes, data points won't be joined)\n",
    "df = pd.merge_asof(weather, starwis, on='ts', direction='nearest', tolerance=pd.Timedelta('5min'))"
   ]
  },
  {
   "cell_type": "code",
   "execution_count": 8,
   "metadata": {},
   "outputs": [],
   "source": [
    "# Drop data points that couldn't be joined and other missing values\n",
    "df.dropna(inplace=True)"
   ]
  },
  {
   "cell_type": "code",
   "execution_count": 9,
   "metadata": {},
   "outputs": [],
   "source": [
    "df[\"ts\"] = pd.to_datetime(df.ts)\n",
    "df.set_index(\"ts\", inplace=True)"
   ]
  },
  {
   "cell_type": "code",
   "execution_count": 10,
   "metadata": {},
   "outputs": [],
   "source": [
    "# Filter data between november and march\n",
    "df_2021 = df[(df.index >= \"2021-11-01 00:00:00\") & (df.index < \"2022-05-01 00:00:00\")]\n",
    "df_2022 = df[(df.index >= \"2022-11-01 00:00:00\") & (df.index < \"2023-05-01 00:00:00\")]\n",
    "df_2023 = df[(df.index >= \"2023-11-01 00:00:00\") & (df.index < \"2024-05-01 00:00:00\")]"
   ]
  },
  {
   "cell_type": "code",
   "execution_count": 11,
   "metadata": {},
   "outputs": [],
   "source": [
    "df = pd.concat([df_2021, df_2022, df_2023])"
   ]
  },
  {
   "cell_type": "code",
   "execution_count": 12,
   "metadata": {},
   "outputs": [],
   "source": [
    "# save merged dataset to .csv file\n",
    "df.to_csv(\"../ready_data/merged_starwis_and_weather.csv\")"
   ]
  }
 ],
 "metadata": {
  "kernelspec": {
   "display_name": ".venv",
   "language": "python",
   "name": "python3"
  },
  "language_info": {
   "codemirror_mode": {
    "name": "ipython",
    "version": 3
   },
   "file_extension": ".py",
   "mimetype": "text/x-python",
   "name": "python",
   "nbconvert_exporter": "python",
   "pygments_lexer": "ipython3",
   "version": "3.11.5"
  }
 },
 "nbformat": 4,
 "nbformat_minor": 2
}
