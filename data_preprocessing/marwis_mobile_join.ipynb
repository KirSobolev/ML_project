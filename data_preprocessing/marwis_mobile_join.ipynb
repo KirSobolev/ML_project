{
 "cells": [
  {
   "cell_type": "code",
   "execution_count": 25,
   "metadata": {},
   "outputs": [],
   "source": [
    "import numpy as np\n",
    "import pandas as pd\n",
    "import json\n",
    "import matplotlib.pyplot as plt"
   ]
  },
  {
   "cell_type": "code",
   "execution_count": 43,
   "metadata": {},
   "outputs": [],
   "source": [
    "# All paths to .csv files\n",
    "path1 = \"../original_data/marwis_data_2023-12.csv\"\n",
    "path2 = \"../original_data/marwis_data_2024-01.csv\"\n",
    "path3 = \"../original_data/marwis_data_2024-02.csv\"\n"
   ]
  },
  {
   "cell_type": "code",
   "execution_count": 27,
   "metadata": {},
   "outputs": [],
   "source": [
    "def unpack_json(path):\n",
    "    #json column name\n",
    "    json_column = 'data'\n",
    "    # columns to exclude\n",
    "    columns = [\"id\", \"device_id\", json_column, \"alt\", \"hdg\", \"lat\", \"lon\",\n",
    "               \"pwr\", \"spd\", \"tienimi\", \"tieosoite\", \"timeStamp\"]\n",
    "    # Load the CSV file\n",
    "    df = pd.read_csv(path)\n",
    "\n",
    "    # Expand the JSON column into separate columns\n",
    "    json_expanded = df[json_column].apply(json.loads).apply(pd.Series)\n",
    "    # Concatenate the expanded JSON columns with the original dataframe\n",
    "    df = pd.concat([df, json_expanded], axis=1)\n",
    "    # Delete columns\n",
    "    df.drop(columns, axis=1, inplace=True)\n",
    "\n",
    "    # Display the updated dataframe\n",
    "    return df"
   ]
  },
  {
   "cell_type": "code",
   "execution_count": 44,
   "metadata": {},
   "outputs": [
    {
     "name": "stderr",
     "output_type": "stream",
     "text": [
      "/var/folders/19/0ldx1bc54jx5tvjkrsbcv4040000gn/T/ipykernel_37669/4281715045.py:8: DtypeWarning: Columns (2) have mixed types. Specify dtype option on import or set low_memory=False.\n",
      "  df = pd.read_csv(path)\n"
     ]
    }
   ],
   "source": [
    "# Apply the unpacking function to every file \n",
    "marwis2023_12 = unpack_json(path1)\n",
    "marwis2024_01 = unpack_json(path2)\n",
    "marwis2024_02 = unpack_json(path3)\n",
    "\n",
    "# Combine all datasets to one\n",
    "df = pd.concat([marwis2023_12, marwis2024_01, marwis2024_02])\n"
   ]
  },
  {
   "cell_type": "code",
   "execution_count": null,
   "metadata": {},
   "outputs": [],
   "source": [
    "# Delete duplcicated timestamps\n",
    "df.drop_duplicates(subset=\"timestamp\", inplace=True)"
   ]
  },
  {
   "cell_type": "code",
   "execution_count": 45,
   "metadata": {},
   "outputs": [],
   "source": [
    "df.to_csv(\"../ready_data/merged_marwis.csv\")"
   ]
  },
  {
   "cell_type": "markdown",
   "metadata": {},
   "source": [
    "<h1>END OF MERGING</H1>"
   ]
  },
  {
   "cell_type": "code",
   "execution_count": null,
   "metadata": {},
   "outputs": [],
   "source": [
    "df = pd.read_csv(\"../ready_data/merged_marwis.csv\")"
   ]
  },
  {
   "cell_type": "code",
   "execution_count": null,
   "metadata": {},
   "outputs": [
    {
     "name": "stdout",
     "output_type": "stream",
     "text": [
      "Gaps in Time Series Data:\n"
     ]
    },
    {
     "data": {
      "text/html": [
       "<div>\n",
       "<style scoped>\n",
       "    .dataframe tbody tr th:only-of-type {\n",
       "        vertical-align: middle;\n",
       "    }\n",
       "\n",
       "    .dataframe tbody tr th {\n",
       "        vertical-align: top;\n",
       "    }\n",
       "\n",
       "    .dataframe thead th {\n",
       "        text-align: right;\n",
       "    }\n",
       "</style>\n",
       "<table border=\"1\" class=\"dataframe\">\n",
       "  <thead>\n",
       "    <tr style=\"text-align: right;\">\n",
       "      <th></th>\n",
       "      <th>timestamp</th>\n",
       "      <th>time_diff</th>\n",
       "    </tr>\n",
       "  </thead>\n",
       "  <tbody>\n",
       "    <tr>\n",
       "      <th>50452</th>\n",
       "      <td>2023-12-02 08:09:45+02:00</td>\n",
       "      <td>0 days 11:56:24</td>\n",
       "    </tr>\n",
       "    <tr>\n",
       "      <th>111417</th>\n",
       "      <td>2023-12-04 05:32:03+02:00</td>\n",
       "      <td>1 days 04:17:53</td>\n",
       "    </tr>\n",
       "    <tr>\n",
       "      <th>169001</th>\n",
       "      <td>2023-12-04 21:35:38+02:00</td>\n",
       "      <td>0 days 01:41:45</td>\n",
       "    </tr>\n",
       "    <tr>\n",
       "      <th>169883</th>\n",
       "      <td>2023-12-05 05:37:46+02:00</td>\n",
       "      <td>0 days 07:47:19</td>\n",
       "    </tr>\n",
       "    <tr>\n",
       "      <th>226741</th>\n",
       "      <td>2023-12-06 08:07:45+02:00</td>\n",
       "      <td>0 days 12:13:53</td>\n",
       "    </tr>\n",
       "    <tr>\n",
       "      <th>...</th>\n",
       "      <td>...</td>\n",
       "      <td>...</td>\n",
       "    </tr>\n",
       "    <tr>\n",
       "      <th>675599</th>\n",
       "      <td>2024-02-27 05:37:21+02:00</td>\n",
       "      <td>0 days 11:00:02</td>\n",
       "    </tr>\n",
       "    <tr>\n",
       "      <th>722350</th>\n",
       "      <td>2024-02-28 05:15:15+02:00</td>\n",
       "      <td>0 days 10:35:14</td>\n",
       "    </tr>\n",
       "    <tr>\n",
       "      <th>770093</th>\n",
       "      <td>2024-02-28 23:38:27+02:00</td>\n",
       "      <td>0 days 05:02:55</td>\n",
       "    </tr>\n",
       "    <tr>\n",
       "      <th>771314</th>\n",
       "      <td>2024-02-29 12:43:57+02:00</td>\n",
       "      <td>0 days 12:46:00</td>\n",
       "    </tr>\n",
       "    <tr>\n",
       "      <th>773614</th>\n",
       "      <td>2024-02-29 15:15:29+02:00</td>\n",
       "      <td>0 days 01:53:00</td>\n",
       "    </tr>\n",
       "  </tbody>\n",
       "</table>\n",
       "<p>115 rows × 2 columns</p>\n",
       "</div>"
      ],
      "text/plain": [
       "                       timestamp       time_diff\n",
       "50452  2023-12-02 08:09:45+02:00 0 days 11:56:24\n",
       "111417 2023-12-04 05:32:03+02:00 1 days 04:17:53\n",
       "169001 2023-12-04 21:35:38+02:00 0 days 01:41:45\n",
       "169883 2023-12-05 05:37:46+02:00 0 days 07:47:19\n",
       "226741 2023-12-06 08:07:45+02:00 0 days 12:13:53\n",
       "...                          ...             ...\n",
       "675599 2024-02-27 05:37:21+02:00 0 days 11:00:02\n",
       "722350 2024-02-28 05:15:15+02:00 0 days 10:35:14\n",
       "770093 2024-02-28 23:38:27+02:00 0 days 05:02:55\n",
       "771314 2024-02-29 12:43:57+02:00 0 days 12:46:00\n",
       "773614 2024-02-29 15:15:29+02:00 0 days 01:53:00\n",
       "\n",
       "[115 rows x 2 columns]"
      ]
     },
     "execution_count": 49,
     "metadata": {},
     "output_type": "execute_result"
    }
   ],
   "source": [
    "\n",
    "# Convert the 'timestamp' column to datetime format\n",
    "df['timestamp'] = pd.to_datetime(df['timestamp'])\n",
    "\n",
    "# Sort the DataFrame by timestamp to ensure proper order (if not already sorted)\n",
    "df = df.sort_values('timestamp')\n",
    "\n",
    "# Calculate the time difference between each row\n",
    "df['time_diff'] = df['timestamp'].diff()\n",
    "\n",
    "# Check for rows where the time difference is greater than the expected interval\n",
    "# For example, more than 1 second if data is supposed to be at 1-second intervals\n",
    "gap_threshold = pd.Timedelta(minutes=5)\n",
    "gaps = df[df['time_diff'] > gap_threshold]\n",
    "print_gaps = gaps[['timestamp', 'time_diff']]\n",
    "# Display gaps with their time differences\n",
    "print(\"Gaps in Time Series Data:\")\n",
    "print_gaps"
   ]
  },
  {
   "cell_type": "code",
   "execution_count": 53,
   "metadata": {},
   "outputs": [
    {
     "data": {
      "image/png": "[encoded data removed]",
      "text/plain": [
       "<Figure size 1200x600 with 1 Axes>"
      ]
     },
     "metadata": {},
     "output_type": "display_data"
    }
   ],
   "source": [
    "# Create a bar plot for the gaps\n",
    "plt.figure(figsize=(12, 6))\n",
    "plt.bar(gaps['timestamp'], gaps['time_diff'].dt.total_seconds(), color='skyblue')\n",
    "\n",
    "# Label the axes and title\n",
    "plt.xlabel('Timestamp of Gap Start')\n",
    "plt.ylabel('Gap Duration (seconds)')\n",
    "plt.title('Bar Plot of Gaps in Time-Series Data')\n",
    "plt.xticks(rotation=45)\n",
    "plt.grid(True)\n",
    "plt.show()"
   ]
  },
  {
   "cell_type": "code",
   "execution_count": null,
   "metadata": {},
   "outputs": [],
   "source": []
  }
 ],
 "metadata": {
  "kernelspec": {
   "display_name": ".venv",
   "language": "python",
   "name": "python3"
  },
  "language_info": {
   "codemirror_mode": {
    "name": "ipython",
    "version": 3
   },
   "file_extension": ".py",
   "mimetype": "text/x-python",
   "name": "python",
   "nbconvert_exporter": "python",
   "pygments_lexer": "ipython3",
   "version": "3.10.13"
  }
 },
 "nbformat": 4,
 "nbformat_minor": 2
}
